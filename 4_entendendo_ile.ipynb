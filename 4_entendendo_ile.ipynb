{
 "metadata": {
  "language_info": {
   "codemirror_mode": {
    "name": "ipython",
    "version": 3
   },
   "file_extension": ".py",
   "mimetype": "text/x-python",
   "name": "python",
   "nbconvert_exporter": "python",
   "pygments_lexer": "ipython3",
   "version": "3.8.3-final"
  },
  "orig_nbformat": 2,
  "kernelspec": {
   "name": "python3",
   "display_name": "Python 3.8.3 32-bit",
   "metadata": {
    "interpreter": {
     "hash": "69f52b3447690a3e3dca3d2129352a9d58fa560847dc3f0136f4fe2094dbfcaa"
    }
   }
  }
 },
 "nbformat": 4,
 "nbformat_minor": 2,
 "cells": [
  {
   "cell_type": "code",
   "execution_count": 8,
   "metadata": {},
   "outputs": [],
   "source": [
    "import math as m\n",
    "import pandas as pd\n",
    "import numpy as np\n",
    "import pprint\n",
    "import matplotlib.pyplot as plt\n",
    "from scipy.stats import linregress"
   ]
  },
  {
   "cell_type": "code",
   "execution_count": 9,
   "metadata": {},
   "outputs": [],
   "source": [
    "indice_lib_eco = pd.read_csv('./csv/indice_lib_eco.csv', header = 0, index_col=0)"
   ]
  },
  {
   "cell_type": "code",
   "execution_count": 10,
   "metadata": {},
   "outputs": [
    {
     "output_type": "execute_result",
     "data": {
      "text/plain": [
       "   year ISO_code  countries  index   rank  1_size_government  \\\n",
       "0  2016      DZA    Algeria   4.99  159.0           3.616782   \n",
       "1  2016      AGO     Angola   5.17  155.0           6.496685   \n",
       "2  2016      ARG  Argentina   4.84  160.0           5.346056   \n",
       "3  2016      ARM    Armenia   7.57   29.0           7.003310   \n",
       "4  2016      AUS  Australia   7.98   10.0           6.544178   \n",
       "\n",
       "   2_property_rights  3_sound_money   4_trade  5_regulation  \n",
       "0           4.690743       7.253894  4.127025      5.268992  \n",
       "1           2.963635       5.606605  5.264754      5.518500  \n",
       "2           3.904030       5.614336  3.982547      5.369019  \n",
       "3           5.809215       9.521940  8.143241      7.378069  \n",
       "4           7.919019       9.452540  7.526721      8.465526  "
      ],
      "text/html": "<div>\n<style scoped>\n    .dataframe tbody tr th:only-of-type {\n        vertical-align: middle;\n    }\n\n    .dataframe tbody tr th {\n        vertical-align: top;\n    }\n\n    .dataframe thead th {\n        text-align: right;\n    }\n</style>\n<table border=\"1\" class=\"dataframe\">\n  <thead>\n    <tr style=\"text-align: right;\">\n      <th></th>\n      <th>year</th>\n      <th>ISO_code</th>\n      <th>countries</th>\n      <th>index</th>\n      <th>rank</th>\n      <th>1_size_government</th>\n      <th>2_property_rights</th>\n      <th>3_sound_money</th>\n      <th>4_trade</th>\n      <th>5_regulation</th>\n    </tr>\n  </thead>\n  <tbody>\n    <tr>\n      <th>0</th>\n      <td>2016</td>\n      <td>DZA</td>\n      <td>Algeria</td>\n      <td>4.99</td>\n      <td>159.0</td>\n      <td>3.616782</td>\n      <td>4.690743</td>\n      <td>7.253894</td>\n      <td>4.127025</td>\n      <td>5.268992</td>\n    </tr>\n    <tr>\n      <th>1</th>\n      <td>2016</td>\n      <td>AGO</td>\n      <td>Angola</td>\n      <td>5.17</td>\n      <td>155.0</td>\n      <td>6.496685</td>\n      <td>2.963635</td>\n      <td>5.606605</td>\n      <td>5.264754</td>\n      <td>5.518500</td>\n    </tr>\n    <tr>\n      <th>2</th>\n      <td>2016</td>\n      <td>ARG</td>\n      <td>Argentina</td>\n      <td>4.84</td>\n      <td>160.0</td>\n      <td>5.346056</td>\n      <td>3.904030</td>\n      <td>5.614336</td>\n      <td>3.982547</td>\n      <td>5.369019</td>\n    </tr>\n    <tr>\n      <th>3</th>\n      <td>2016</td>\n      <td>ARM</td>\n      <td>Armenia</td>\n      <td>7.57</td>\n      <td>29.0</td>\n      <td>7.003310</td>\n      <td>5.809215</td>\n      <td>9.521940</td>\n      <td>8.143241</td>\n      <td>7.378069</td>\n    </tr>\n    <tr>\n      <th>4</th>\n      <td>2016</td>\n      <td>AUS</td>\n      <td>Australia</td>\n      <td>7.98</td>\n      <td>10.0</td>\n      <td>6.544178</td>\n      <td>7.919019</td>\n      <td>9.452540</td>\n      <td>7.526721</td>\n      <td>8.465526</td>\n    </tr>\n  </tbody>\n</table>\n</div>"
     },
     "metadata": {},
     "execution_count": 10
    }
   ],
   "source": [
    "indice_lib_eco.head()"
   ]
  },
  {
   "cell_type": "code",
   "execution_count": 11,
   "metadata": {},
   "outputs": [
    {
     "output_type": "execute_result",
     "data": {
      "text/plain": [
       "0       4.99\n",
       "1       5.17\n",
       "2       4.84\n",
       "3       7.57\n",
       "4       7.98\n",
       "        ... \n",
       "3708    6.20\n",
       "3712    4.44\n",
       "3717    5.94\n",
       "3718    7.77\n",
       "3720    7.18\n",
       "Name: index, Length: 2888, dtype: float64"
      ]
     },
     "metadata": {},
     "execution_count": 11
    }
   ],
   "source": [
    "ile = indice_lib_eco['index']\n",
    "ile"
   ]
  },
  {
   "cell_type": "code",
   "execution_count": 12,
   "metadata": {},
   "outputs": [
    {
     "output_type": "execute_result",
     "data": {
      "text/plain": [
       "(7, 8]     999\n",
       "(6, 7]     955\n",
       "(5, 6]     550\n",
       "(4, 5]     193\n",
       "(8, 9]     158\n",
       "(3, 4]      26\n",
       "(9, 10]      7\n",
       "(2, 3]       0\n",
       "(1, 2]       0\n",
       "(0, 1]       0\n",
       "Name: index, dtype: int64"
      ]
     },
     "metadata": {},
     "execution_count": 12
    }
   ],
   "source": [
    "#Verificando quantos países estão nos indices de acordo com o range\n",
    "contador_total = pd.cut(ile, np.arange(0, 11, 1)).value_counts()\n",
    "contador_total"
   ]
  },
  {
   "cell_type": "code",
   "execution_count": 17,
   "metadata": {},
   "outputs": [],
   "source": [
    "contador_pct = contador_total * 100 / ile.shape[0]"
   ]
  },
  {
   "cell_type": "code",
   "execution_count": 18,
   "metadata": {},
   "outputs": [
    {
     "output_type": "execute_result",
     "data": {
      "text/plain": [
       "(2, 3]       0\n",
       "(1, 2]       0\n",
       "(0, 1]       0\n",
       "(9, 10]      7\n",
       "(3, 4]      26\n",
       "(8, 9]     158\n",
       "(4, 5]     193\n",
       "(5, 6]     550\n",
       "(6, 7]     955\n",
       "(7, 8]     999\n",
       "Name: index, dtype: int64"
      ]
     },
     "metadata": {},
     "execution_count": 18
    }
   ],
   "source": [
    "contador_total.sort_values()"
   ]
  },
  {
   "cell_type": "code",
   "execution_count": 19,
   "metadata": {},
   "outputs": [
    {
     "output_type": "execute_result",
     "data": {
      "text/plain": [
       "(2, 3]      0.000000\n",
       "(1, 2]      0.000000\n",
       "(0, 1]      0.000000\n",
       "(9, 10]     0.242382\n",
       "(3, 4]      0.900277\n",
       "(8, 9]      5.470914\n",
       "(4, 5]      6.682825\n",
       "(5, 6]     19.044321\n",
       "(6, 7]     33.067867\n",
       "(7, 8]     34.591413\n",
       "Name: index, dtype: float64"
      ]
     },
     "metadata": {},
     "execution_count": 19
    }
   ],
   "source": [
    "contador_pct.sort_values()"
   ]
  },
  {
   "cell_type": "code",
   "execution_count": 49,
   "metadata": {},
   "outputs": [
    {
     "output_type": "stream",
     "name": "stdout",
     "text": [
      "                       year     index      rank  1_size_government  \\\nyear               1.000000  0.308212  0.301145           0.220969   \nindex              0.308212  1.000000 -0.743764           0.264403   \nrank               0.301145 -0.743764  1.000000          -0.051153   \n1_size_government  0.220969  0.264403 -0.051153           1.000000   \n2_property_rights  0.010167  0.742070 -0.722075          -0.218239   \n3_sound_money      0.282942  0.803104 -0.610141           0.041742   \n4_trade            0.259663  0.856345 -0.610743           0.065832   \n5_regulation       0.346318  0.768574 -0.528511           0.130062   \n\n                   2_property_rights  3_sound_money   4_trade  5_regulation  \nyear                        0.010167       0.282942  0.259663      0.346318  \nindex                       0.742070       0.803104  0.856345      0.768574  \nrank                       -0.722075      -0.610141 -0.610743     -0.528511  \n1_size_government          -0.218239       0.041742  0.065832      0.130062  \n2_property_rights           1.000000       0.505378  0.609805      0.546309  \n3_sound_money               0.505378       1.000000  0.678794      0.514705  \n4_trade                     0.609805       0.678794  1.000000      0.567420  \n5_regulation                0.546309       0.514705  0.567420      1.000000  \n"
     ]
    }
   ],
   "source": [
    "#Correlacionando o dataset\n",
    "correlacoes = indice_lib_eco.corr()\n",
    "print(correlacoes)"
   ]
  }
 ]
}