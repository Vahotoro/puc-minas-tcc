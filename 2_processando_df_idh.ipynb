{
 "metadata": {
  "language_info": {
   "codemirror_mode": {
    "name": "ipython",
    "version": 3
   },
   "file_extension": ".py",
   "mimetype": "text/x-python",
   "name": "python",
   "nbconvert_exporter": "python",
   "pygments_lexer": "ipython3",
   "version": "3.8.3-final"
  },
  "orig_nbformat": 2,
  "kernelspec": {
   "name": "python3",
   "display_name": "Python 3.8.3 32-bit",
   "metadata": {
    "interpreter": {
     "hash": "69f52b3447690a3e3dca3d2129352a9d58fa560847dc3f0136f4fe2094dbfcaa"
    }
   }
  }
 },
 "nbformat": 4,
 "nbformat_minor": 2,
 "cells": [
  {
   "cell_type": "code",
   "execution_count": 1,
   "metadata": {},
   "outputs": [],
   "source": [
    "import math as m\n",
    "import pandas as pd\n",
    "import numpy as np\n",
    "import pprint\n",
    "import matplotlib.pyplot as plt"
   ]
  },
  {
   "cell_type": "code",
   "execution_count": 2,
   "metadata": {},
   "outputs": [],
   "source": [
    "indice_idh = pd.read_csv('./csv/hdi.csv', header = 0)\n",
    "iso_code = pd.read_csv('./csv/iso_code.csv', header = 0)"
   ]
  },
  {
   "cell_type": "code",
   "execution_count": 3,
   "metadata": {},
   "outputs": [
    {
     "output_type": "stream",
     "name": "stdout",
     "text": [
      "<class 'pandas.core.frame.DataFrame'>\nRangeIndex: 189 entries, 0 to 188\nData columns (total 30 columns):\n #   Column    Non-Null Count  Dtype  \n---  ------    --------------  -----  \n 0   HDI Rank  189 non-null    int64  \n 1   Country   189 non-null    object \n 2   1990      142 non-null    float64\n 3   1991      143 non-null    float64\n 4   1992      140 non-null    float64\n 5   1993      143 non-null    float64\n 6   1994      143 non-null    float64\n 7   1995      147 non-null    float64\n 8   1996      147 non-null    float64\n 9   1997      147 non-null    float64\n 10  1998      147 non-null    float64\n 11  1999      150 non-null    float64\n 12  2000      172 non-null    float64\n 13  2001      172 non-null    float64\n 14  2002      174 non-null    float64\n 15  2003      176 non-null    float64\n 16  2004      179 non-null    float64\n 17  2005      186 non-null    float64\n 18  2006      186 non-null    float64\n 19  2007      186 non-null    float64\n 20  2008      186 non-null    float64\n 21  2009      186 non-null    float64\n 22  2010      188 non-null    float64\n 23  2011      188 non-null    float64\n 24  2012      188 non-null    float64\n 25  2013      188 non-null    float64\n 26  2014      188 non-null    float64\n 27  2015      188 non-null    float64\n 28  2016      188 non-null    float64\n 29  2017      189 non-null    float64\ndtypes: float64(28), int64(1), object(1)\nmemory usage: 43.6+ KB\n"
     ]
    }
   ],
   "source": [
    "# Verificando\n",
    "indice_idh.info()"
   ]
  },
  {
   "cell_type": "code",
   "execution_count": 4,
   "metadata": {},
   "outputs": [
    {
     "output_type": "execute_result",
     "data": {
      "text/plain": [
       "     HDI Rank                              Country   1990   1991   1992  \\\n",
       "0         168                          Afghanistan    NaN    NaN    NaN   \n",
       "1          68                              Albania  0.645  0.626  0.610   \n",
       "2          85                              Algeria  0.577  0.581  0.587   \n",
       "3          35                              Andorra    NaN    NaN    NaN   \n",
       "4         147                               Angola    NaN    NaN    NaN   \n",
       "..        ...                                  ...    ...    ...    ...   \n",
       "184        78   Venezuela (Bolivarian Republic of)  0.634  0.644  0.651   \n",
       "185       116                             Viet Nam  0.475  0.484  0.496   \n",
       "186       178                                Yemen  0.399  0.403  0.405   \n",
       "187       144                               Zambia  0.401  0.402  0.403   \n",
       "188       156                             Zimbabwe  0.491  0.494  0.481   \n",
       "\n",
       "      1993   1994   1995   1996   1997  ...   2008   2009   2010   2011  \\\n",
       "0      NaN    NaN    NaN    NaN    NaN  ...  0.437  0.453  0.463  0.471   \n",
       "1    0.613  0.619  0.632  0.641  0.641  ...  0.724  0.729  0.741  0.752   \n",
       "2    0.591  0.595  0.600  0.608  0.617  ...  0.709  0.719  0.729  0.736   \n",
       "3      NaN    NaN    NaN    NaN    NaN  ...  0.831  0.830  0.828  0.827   \n",
       "4      NaN    NaN    NaN    NaN    NaN  ...  0.502  0.522  0.520  0.535   \n",
       "..     ...    ...    ...    ...    ...  ...    ...    ...    ...    ...   \n",
       "184  0.653  0.654  0.658  0.660  0.664  ...  0.753  0.753  0.759  0.771   \n",
       "185  0.506  0.517  0.529  0.540  0.539  ...  0.640  0.656  0.654  0.664   \n",
       "186  0.408  0.409  0.415  0.422  0.427  ...  0.485  0.491  0.498  0.499   \n",
       "187  0.409  0.408  0.412  0.416  0.419  ...  0.517  0.533  0.544  0.556   \n",
       "188  0.476  0.473  0.467  0.466  0.459  ...  0.439  0.450  0.467  0.478   \n",
       "\n",
       "      2012   2013   2014   2015   2016   2017  \n",
       "0    0.482  0.487  0.491  0.493  0.494  0.498  \n",
       "1    0.767  0.771  0.773  0.776  0.782  0.785  \n",
       "2    0.740  0.745  0.747  0.749  0.753  0.754  \n",
       "3    0.849  0.850  0.853  0.854  0.856  0.858  \n",
       "4    0.543  0.554  0.564  0.572  0.577  0.581  \n",
       "..     ...    ...    ...    ...    ...    ...  \n",
       "184  0.774  0.776  0.778  0.775  0.766  0.761  \n",
       "185  0.670  0.675  0.678  0.684  0.689  0.694  \n",
       "186  0.505  0.507  0.505  0.483  0.462  0.452  \n",
       "187  0.569  0.574  0.580  0.583  0.586  0.588  \n",
       "188  0.505  0.516  0.525  0.529  0.532  0.535  \n",
       "\n",
       "[189 rows x 30 columns]"
      ],
      "text/html": "<div>\n<style scoped>\n    .dataframe tbody tr th:only-of-type {\n        vertical-align: middle;\n    }\n\n    .dataframe tbody tr th {\n        vertical-align: top;\n    }\n\n    .dataframe thead th {\n        text-align: right;\n    }\n</style>\n<table border=\"1\" class=\"dataframe\">\n  <thead>\n    <tr style=\"text-align: right;\">\n      <th></th>\n      <th>HDI Rank</th>\n      <th>Country</th>\n      <th>1990</th>\n      <th>1991</th>\n      <th>1992</th>\n      <th>1993</th>\n      <th>1994</th>\n      <th>1995</th>\n      <th>1996</th>\n      <th>1997</th>\n      <th>...</th>\n      <th>2008</th>\n      <th>2009</th>\n      <th>2010</th>\n      <th>2011</th>\n      <th>2012</th>\n      <th>2013</th>\n      <th>2014</th>\n      <th>2015</th>\n      <th>2016</th>\n      <th>2017</th>\n    </tr>\n  </thead>\n  <tbody>\n    <tr>\n      <th>0</th>\n      <td>168</td>\n      <td>Afghanistan</td>\n      <td>NaN</td>\n      <td>NaN</td>\n      <td>NaN</td>\n      <td>NaN</td>\n      <td>NaN</td>\n      <td>NaN</td>\n      <td>NaN</td>\n      <td>NaN</td>\n      <td>...</td>\n      <td>0.437</td>\n      <td>0.453</td>\n      <td>0.463</td>\n      <td>0.471</td>\n      <td>0.482</td>\n      <td>0.487</td>\n      <td>0.491</td>\n      <td>0.493</td>\n      <td>0.494</td>\n      <td>0.498</td>\n    </tr>\n    <tr>\n      <th>1</th>\n      <td>68</td>\n      <td>Albania</td>\n      <td>0.645</td>\n      <td>0.626</td>\n      <td>0.610</td>\n      <td>0.613</td>\n      <td>0.619</td>\n      <td>0.632</td>\n      <td>0.641</td>\n      <td>0.641</td>\n      <td>...</td>\n      <td>0.724</td>\n      <td>0.729</td>\n      <td>0.741</td>\n      <td>0.752</td>\n      <td>0.767</td>\n      <td>0.771</td>\n      <td>0.773</td>\n      <td>0.776</td>\n      <td>0.782</td>\n      <td>0.785</td>\n    </tr>\n    <tr>\n      <th>2</th>\n      <td>85</td>\n      <td>Algeria</td>\n      <td>0.577</td>\n      <td>0.581</td>\n      <td>0.587</td>\n      <td>0.591</td>\n      <td>0.595</td>\n      <td>0.600</td>\n      <td>0.608</td>\n      <td>0.617</td>\n      <td>...</td>\n      <td>0.709</td>\n      <td>0.719</td>\n      <td>0.729</td>\n      <td>0.736</td>\n      <td>0.740</td>\n      <td>0.745</td>\n      <td>0.747</td>\n      <td>0.749</td>\n      <td>0.753</td>\n      <td>0.754</td>\n    </tr>\n    <tr>\n      <th>3</th>\n      <td>35</td>\n      <td>Andorra</td>\n      <td>NaN</td>\n      <td>NaN</td>\n      <td>NaN</td>\n      <td>NaN</td>\n      <td>NaN</td>\n      <td>NaN</td>\n      <td>NaN</td>\n      <td>NaN</td>\n      <td>...</td>\n      <td>0.831</td>\n      <td>0.830</td>\n      <td>0.828</td>\n      <td>0.827</td>\n      <td>0.849</td>\n      <td>0.850</td>\n      <td>0.853</td>\n      <td>0.854</td>\n      <td>0.856</td>\n      <td>0.858</td>\n    </tr>\n    <tr>\n      <th>4</th>\n      <td>147</td>\n      <td>Angola</td>\n      <td>NaN</td>\n      <td>NaN</td>\n      <td>NaN</td>\n      <td>NaN</td>\n      <td>NaN</td>\n      <td>NaN</td>\n      <td>NaN</td>\n      <td>NaN</td>\n      <td>...</td>\n      <td>0.502</td>\n      <td>0.522</td>\n      <td>0.520</td>\n      <td>0.535</td>\n      <td>0.543</td>\n      <td>0.554</td>\n      <td>0.564</td>\n      <td>0.572</td>\n      <td>0.577</td>\n      <td>0.581</td>\n    </tr>\n    <tr>\n      <th>...</th>\n      <td>...</td>\n      <td>...</td>\n      <td>...</td>\n      <td>...</td>\n      <td>...</td>\n      <td>...</td>\n      <td>...</td>\n      <td>...</td>\n      <td>...</td>\n      <td>...</td>\n      <td>...</td>\n      <td>...</td>\n      <td>...</td>\n      <td>...</td>\n      <td>...</td>\n      <td>...</td>\n      <td>...</td>\n      <td>...</td>\n      <td>...</td>\n      <td>...</td>\n      <td>...</td>\n    </tr>\n    <tr>\n      <th>184</th>\n      <td>78</td>\n      <td>Venezuela (Bolivarian Republic of)</td>\n      <td>0.634</td>\n      <td>0.644</td>\n      <td>0.651</td>\n      <td>0.653</td>\n      <td>0.654</td>\n      <td>0.658</td>\n      <td>0.660</td>\n      <td>0.664</td>\n      <td>...</td>\n      <td>0.753</td>\n      <td>0.753</td>\n      <td>0.759</td>\n      <td>0.771</td>\n      <td>0.774</td>\n      <td>0.776</td>\n      <td>0.778</td>\n      <td>0.775</td>\n      <td>0.766</td>\n      <td>0.761</td>\n    </tr>\n    <tr>\n      <th>185</th>\n      <td>116</td>\n      <td>Viet Nam</td>\n      <td>0.475</td>\n      <td>0.484</td>\n      <td>0.496</td>\n      <td>0.506</td>\n      <td>0.517</td>\n      <td>0.529</td>\n      <td>0.540</td>\n      <td>0.539</td>\n      <td>...</td>\n      <td>0.640</td>\n      <td>0.656</td>\n      <td>0.654</td>\n      <td>0.664</td>\n      <td>0.670</td>\n      <td>0.675</td>\n      <td>0.678</td>\n      <td>0.684</td>\n      <td>0.689</td>\n      <td>0.694</td>\n    </tr>\n    <tr>\n      <th>186</th>\n      <td>178</td>\n      <td>Yemen</td>\n      <td>0.399</td>\n      <td>0.403</td>\n      <td>0.405</td>\n      <td>0.408</td>\n      <td>0.409</td>\n      <td>0.415</td>\n      <td>0.422</td>\n      <td>0.427</td>\n      <td>...</td>\n      <td>0.485</td>\n      <td>0.491</td>\n      <td>0.498</td>\n      <td>0.499</td>\n      <td>0.505</td>\n      <td>0.507</td>\n      <td>0.505</td>\n      <td>0.483</td>\n      <td>0.462</td>\n      <td>0.452</td>\n    </tr>\n    <tr>\n      <th>187</th>\n      <td>144</td>\n      <td>Zambia</td>\n      <td>0.401</td>\n      <td>0.402</td>\n      <td>0.403</td>\n      <td>0.409</td>\n      <td>0.408</td>\n      <td>0.412</td>\n      <td>0.416</td>\n      <td>0.419</td>\n      <td>...</td>\n      <td>0.517</td>\n      <td>0.533</td>\n      <td>0.544</td>\n      <td>0.556</td>\n      <td>0.569</td>\n      <td>0.574</td>\n      <td>0.580</td>\n      <td>0.583</td>\n      <td>0.586</td>\n      <td>0.588</td>\n    </tr>\n    <tr>\n      <th>188</th>\n      <td>156</td>\n      <td>Zimbabwe</td>\n      <td>0.491</td>\n      <td>0.494</td>\n      <td>0.481</td>\n      <td>0.476</td>\n      <td>0.473</td>\n      <td>0.467</td>\n      <td>0.466</td>\n      <td>0.459</td>\n      <td>...</td>\n      <td>0.439</td>\n      <td>0.450</td>\n      <td>0.467</td>\n      <td>0.478</td>\n      <td>0.505</td>\n      <td>0.516</td>\n      <td>0.525</td>\n      <td>0.529</td>\n      <td>0.532</td>\n      <td>0.535</td>\n    </tr>\n  </tbody>\n</table>\n<p>189 rows × 30 columns</p>\n</div>"
     },
     "metadata": {},
     "execution_count": 4
    }
   ],
   "source": [
    "indice_idh"
   ]
  },
  {
   "cell_type": "code",
   "execution_count": 5,
   "metadata": {},
   "outputs": [
    {
     "output_type": "execute_result",
     "data": {
      "text/plain": [
       "HDI Rank     0\n",
       "Country      0\n",
       "1990        47\n",
       "1991        46\n",
       "1992        49\n",
       "1993        46\n",
       "1994        46\n",
       "1995        42\n",
       "1996        42\n",
       "1997        42\n",
       "1998        42\n",
       "1999        39\n",
       "2000        17\n",
       "2001        17\n",
       "2002        15\n",
       "2003        13\n",
       "2004        10\n",
       "2005         3\n",
       "2006         3\n",
       "2007         3\n",
       "2008         3\n",
       "2009         3\n",
       "2010         1\n",
       "2011         1\n",
       "2012         1\n",
       "2013         1\n",
       "2014         1\n",
       "2015         1\n",
       "2016         1\n",
       "2017         0\n",
       "dtype: int64"
      ]
     },
     "metadata": {},
     "execution_count": 5
    }
   ],
   "source": [
    "#Iniciando análise de \"missing values\" [valores faltantes] contando em toda tabela \n",
    "indice_idh.isnull().sum()"
   ]
  },
  {
   "cell_type": "code",
   "execution_count": 6,
   "metadata": {},
   "outputs": [
    {
     "output_type": "execute_result",
     "data": {
      "text/plain": [
       "HDI Rank    0\n",
       "Country     0\n",
       "1990        0\n",
       "1991        0\n",
       "1992        3\n",
       "1993        0\n",
       "1994        0\n",
       "1995        0\n",
       "1996        0\n",
       "1997        0\n",
       "1998        0\n",
       "1999        0\n",
       "2000        0\n",
       "2001        0\n",
       "2002        0\n",
       "2003        0\n",
       "2004        0\n",
       "2005        0\n",
       "2006        0\n",
       "2007        0\n",
       "2008        0\n",
       "2009        0\n",
       "2010        0\n",
       "2011        0\n",
       "2012        0\n",
       "2013        0\n",
       "2014        0\n",
       "2015        0\n",
       "2016        0\n",
       "2017        0\n",
       "dtype: int64"
      ]
     },
     "metadata": {},
     "execution_count": 6
    }
   ],
   "source": [
    "#Como vimos alguns casos de alguns países que não possuem informações, vamos dropar as linhas para não atrapalhar o df\n",
    "indice_idh.dropna(subset = ['1990'], inplace=True)\n",
    "indice_idh.isnull().sum()"
   ]
  },
  {
   "cell_type": "code",
   "execution_count": 7,
   "metadata": {},
   "outputs": [
    {
     "output_type": "execute_result",
     "data": {
      "text/plain": [
       "HDI Rank    0\n",
       "Country     0\n",
       "1990        0\n",
       "1991        0\n",
       "1992        0\n",
       "1993        0\n",
       "1994        0\n",
       "1995        0\n",
       "1996        0\n",
       "1997        0\n",
       "1998        0\n",
       "1999        0\n",
       "2000        0\n",
       "2001        0\n",
       "2002        0\n",
       "2003        0\n",
       "2004        0\n",
       "2005        0\n",
       "2006        0\n",
       "2007        0\n",
       "2008        0\n",
       "2009        0\n",
       "2010        0\n",
       "2011        0\n",
       "2012        0\n",
       "2013        0\n",
       "2014        0\n",
       "2015        0\n",
       "2016        0\n",
       "2017        0\n",
       "dtype: int64"
      ]
     },
     "metadata": {},
     "execution_count": 7
    }
   ],
   "source": [
    "#Como vimos alguns casos de alguns países que não possuem informações, neste caso já podemos preencher com a média\n",
    "indice_idh['1992'].fillna((indice_idh['1992'].mean()), inplace=True)\n",
    "indice_idh.isnull().sum()"
   ]
  },
  {
   "cell_type": "code",
   "execution_count": 8,
   "metadata": {},
   "outputs": [
    {
     "output_type": "execute_result",
     "data": {
      "text/plain": [
       "    HDI Rank Country   1990   1991   1992  1993  1994   1995   1996   1997  \\\n",
       "23        79  Brazil  0.611  0.615  0.622  0.63  0.64  0.648  0.656  0.664   \n",
       "\n",
       "    ...   2008   2009   2010   2011   2012   2013   2014   2015   2016   2017  \n",
       "23  ...  0.716  0.718  0.727  0.731  0.736  0.748  0.752  0.757  0.758  0.759  \n",
       "\n",
       "[1 rows x 30 columns]"
      ],
      "text/html": "<div>\n<style scoped>\n    .dataframe tbody tr th:only-of-type {\n        vertical-align: middle;\n    }\n\n    .dataframe tbody tr th {\n        vertical-align: top;\n    }\n\n    .dataframe thead th {\n        text-align: right;\n    }\n</style>\n<table border=\"1\" class=\"dataframe\">\n  <thead>\n    <tr style=\"text-align: right;\">\n      <th></th>\n      <th>HDI Rank</th>\n      <th>Country</th>\n      <th>1990</th>\n      <th>1991</th>\n      <th>1992</th>\n      <th>1993</th>\n      <th>1994</th>\n      <th>1995</th>\n      <th>1996</th>\n      <th>1997</th>\n      <th>...</th>\n      <th>2008</th>\n      <th>2009</th>\n      <th>2010</th>\n      <th>2011</th>\n      <th>2012</th>\n      <th>2013</th>\n      <th>2014</th>\n      <th>2015</th>\n      <th>2016</th>\n      <th>2017</th>\n    </tr>\n  </thead>\n  <tbody>\n    <tr>\n      <th>23</th>\n      <td>79</td>\n      <td>Brazil</td>\n      <td>0.611</td>\n      <td>0.615</td>\n      <td>0.622</td>\n      <td>0.63</td>\n      <td>0.64</td>\n      <td>0.648</td>\n      <td>0.656</td>\n      <td>0.664</td>\n      <td>...</td>\n      <td>0.716</td>\n      <td>0.718</td>\n      <td>0.727</td>\n      <td>0.731</td>\n      <td>0.736</td>\n      <td>0.748</td>\n      <td>0.752</td>\n      <td>0.757</td>\n      <td>0.758</td>\n      <td>0.759</td>\n    </tr>\n  </tbody>\n</table>\n<p>1 rows × 30 columns</p>\n</div>"
     },
     "metadata": {},
     "execution_count": 8
    }
   ],
   "source": [
    "#Notando que o dataframe pode ter problemas de espaços adicionais\n",
    "#Vou repará-los\n",
    "indice_idh['Country'] = indice_idh['Country'].str.strip()\n",
    "indice_idh[indice_idh['Country'] == 'Brazil']"
   ]
  },
  {
   "cell_type": "code",
   "execution_count": 9,
   "metadata": {},
   "outputs": [
    {
     "output_type": "execute_result",
     "data": {
      "text/plain": [
       "     HDI Rank                             Country   1990   1991      1992  \\\n",
       "26        176  Congo (Democratic Republic of the)  0.356  0.353  0.601892   \n",
       "39        144               Eswatini (Kingdom of)  0.536  0.537  0.536000   \n",
       "53          7              Hong Kong, China (SAR)  0.781  0.786  0.791000   \n",
       "68         22                 Korea (Republic of)  0.728  0.739  0.746000   \n",
       "84        112               Moldova (Republic of)  0.651  0.640  0.620000   \n",
       "124       154       Tanzania (United Republic of)  0.370  0.371  0.370000   \n",
       "134        14                      United Kingdom  0.775  0.788  0.801000   \n",
       "135        13                       United States  0.860  0.861  0.867000   \n",
       "\n",
       "      1993   1994   1995   1996   1997  ...  alpha-2  alpha-3  country-code  \\\n",
       "26   0.340  0.334  0.333  0.337  0.334  ...      NaN      NaN           NaN   \n",
       "39   0.531  0.524  0.520  0.513  0.504  ...      NaN      NaN           NaN   \n",
       "53   0.799  0.804  0.808  0.811  0.816  ...      NaN      NaN           NaN   \n",
       "68   0.756  0.767  0.778  0.789  0.800  ...      NaN      NaN           NaN   \n",
       "84   0.618  0.595  0.594  0.591  0.593  ...      NaN      NaN           NaN   \n",
       "124  0.370  0.369  0.371  0.372  0.375  ...      NaN      NaN           NaN   \n",
       "134  0.814  0.827  0.839  0.844  0.849  ...      NaN      NaN           NaN   \n",
       "135  0.871  0.875  0.877  0.879  0.881  ...      NaN      NaN           NaN   \n",
       "\n",
       "     iso_3166-2  region  sub-region  intermediate-region  region-code  \\\n",
       "26          NaN     NaN         NaN                  NaN          NaN   \n",
       "39          NaN     NaN         NaN                  NaN          NaN   \n",
       "53          NaN     NaN         NaN                  NaN          NaN   \n",
       "68          NaN     NaN         NaN                  NaN          NaN   \n",
       "84          NaN     NaN         NaN                  NaN          NaN   \n",
       "124         NaN     NaN         NaN                  NaN          NaN   \n",
       "134         NaN     NaN         NaN                  NaN          NaN   \n",
       "135         NaN     NaN         NaN                  NaN          NaN   \n",
       "\n",
       "     sub-region-code  intermediate-region-code  \n",
       "26               NaN                       NaN  \n",
       "39               NaN                       NaN  \n",
       "53               NaN                       NaN  \n",
       "68               NaN                       NaN  \n",
       "84               NaN                       NaN  \n",
       "124              NaN                       NaN  \n",
       "134              NaN                       NaN  \n",
       "135              NaN                       NaN  \n",
       "\n",
       "[8 rows x 41 columns]"
      ],
      "text/html": "<div>\n<style scoped>\n    .dataframe tbody tr th:only-of-type {\n        vertical-align: middle;\n    }\n\n    .dataframe tbody tr th {\n        vertical-align: top;\n    }\n\n    .dataframe thead th {\n        text-align: right;\n    }\n</style>\n<table border=\"1\" class=\"dataframe\">\n  <thead>\n    <tr style=\"text-align: right;\">\n      <th></th>\n      <th>HDI Rank</th>\n      <th>Country</th>\n      <th>1990</th>\n      <th>1991</th>\n      <th>1992</th>\n      <th>1993</th>\n      <th>1994</th>\n      <th>1995</th>\n      <th>1996</th>\n      <th>1997</th>\n      <th>...</th>\n      <th>alpha-2</th>\n      <th>alpha-3</th>\n      <th>country-code</th>\n      <th>iso_3166-2</th>\n      <th>region</th>\n      <th>sub-region</th>\n      <th>intermediate-region</th>\n      <th>region-code</th>\n      <th>sub-region-code</th>\n      <th>intermediate-region-code</th>\n    </tr>\n  </thead>\n  <tbody>\n    <tr>\n      <th>26</th>\n      <td>176</td>\n      <td>Congo (Democratic Republic of the)</td>\n      <td>0.356</td>\n      <td>0.353</td>\n      <td>0.601892</td>\n      <td>0.340</td>\n      <td>0.334</td>\n      <td>0.333</td>\n      <td>0.337</td>\n      <td>0.334</td>\n      <td>...</td>\n      <td>NaN</td>\n      <td>NaN</td>\n      <td>NaN</td>\n      <td>NaN</td>\n      <td>NaN</td>\n      <td>NaN</td>\n      <td>NaN</td>\n      <td>NaN</td>\n      <td>NaN</td>\n      <td>NaN</td>\n    </tr>\n    <tr>\n      <th>39</th>\n      <td>144</td>\n      <td>Eswatini (Kingdom of)</td>\n      <td>0.536</td>\n      <td>0.537</td>\n      <td>0.536000</td>\n      <td>0.531</td>\n      <td>0.524</td>\n      <td>0.520</td>\n      <td>0.513</td>\n      <td>0.504</td>\n      <td>...</td>\n      <td>NaN</td>\n      <td>NaN</td>\n      <td>NaN</td>\n      <td>NaN</td>\n      <td>NaN</td>\n      <td>NaN</td>\n      <td>NaN</td>\n      <td>NaN</td>\n      <td>NaN</td>\n      <td>NaN</td>\n    </tr>\n    <tr>\n      <th>53</th>\n      <td>7</td>\n      <td>Hong Kong, China (SAR)</td>\n      <td>0.781</td>\n      <td>0.786</td>\n      <td>0.791000</td>\n      <td>0.799</td>\n      <td>0.804</td>\n      <td>0.808</td>\n      <td>0.811</td>\n      <td>0.816</td>\n      <td>...</td>\n      <td>NaN</td>\n      <td>NaN</td>\n      <td>NaN</td>\n      <td>NaN</td>\n      <td>NaN</td>\n      <td>NaN</td>\n      <td>NaN</td>\n      <td>NaN</td>\n      <td>NaN</td>\n      <td>NaN</td>\n    </tr>\n    <tr>\n      <th>68</th>\n      <td>22</td>\n      <td>Korea (Republic of)</td>\n      <td>0.728</td>\n      <td>0.739</td>\n      <td>0.746000</td>\n      <td>0.756</td>\n      <td>0.767</td>\n      <td>0.778</td>\n      <td>0.789</td>\n      <td>0.800</td>\n      <td>...</td>\n      <td>NaN</td>\n      <td>NaN</td>\n      <td>NaN</td>\n      <td>NaN</td>\n      <td>NaN</td>\n      <td>NaN</td>\n      <td>NaN</td>\n      <td>NaN</td>\n      <td>NaN</td>\n      <td>NaN</td>\n    </tr>\n    <tr>\n      <th>84</th>\n      <td>112</td>\n      <td>Moldova (Republic of)</td>\n      <td>0.651</td>\n      <td>0.640</td>\n      <td>0.620000</td>\n      <td>0.618</td>\n      <td>0.595</td>\n      <td>0.594</td>\n      <td>0.591</td>\n      <td>0.593</td>\n      <td>...</td>\n      <td>NaN</td>\n      <td>NaN</td>\n      <td>NaN</td>\n      <td>NaN</td>\n      <td>NaN</td>\n      <td>NaN</td>\n      <td>NaN</td>\n      <td>NaN</td>\n      <td>NaN</td>\n      <td>NaN</td>\n    </tr>\n    <tr>\n      <th>124</th>\n      <td>154</td>\n      <td>Tanzania (United Republic of)</td>\n      <td>0.370</td>\n      <td>0.371</td>\n      <td>0.370000</td>\n      <td>0.370</td>\n      <td>0.369</td>\n      <td>0.371</td>\n      <td>0.372</td>\n      <td>0.375</td>\n      <td>...</td>\n      <td>NaN</td>\n      <td>NaN</td>\n      <td>NaN</td>\n      <td>NaN</td>\n      <td>NaN</td>\n      <td>NaN</td>\n      <td>NaN</td>\n      <td>NaN</td>\n      <td>NaN</td>\n      <td>NaN</td>\n    </tr>\n    <tr>\n      <th>134</th>\n      <td>14</td>\n      <td>United Kingdom</td>\n      <td>0.775</td>\n      <td>0.788</td>\n      <td>0.801000</td>\n      <td>0.814</td>\n      <td>0.827</td>\n      <td>0.839</td>\n      <td>0.844</td>\n      <td>0.849</td>\n      <td>...</td>\n      <td>NaN</td>\n      <td>NaN</td>\n      <td>NaN</td>\n      <td>NaN</td>\n      <td>NaN</td>\n      <td>NaN</td>\n      <td>NaN</td>\n      <td>NaN</td>\n      <td>NaN</td>\n      <td>NaN</td>\n    </tr>\n    <tr>\n      <th>135</th>\n      <td>13</td>\n      <td>United States</td>\n      <td>0.860</td>\n      <td>0.861</td>\n      <td>0.867000</td>\n      <td>0.871</td>\n      <td>0.875</td>\n      <td>0.877</td>\n      <td>0.879</td>\n      <td>0.881</td>\n      <td>...</td>\n      <td>NaN</td>\n      <td>NaN</td>\n      <td>NaN</td>\n      <td>NaN</td>\n      <td>NaN</td>\n      <td>NaN</td>\n      <td>NaN</td>\n      <td>NaN</td>\n      <td>NaN</td>\n      <td>NaN</td>\n    </tr>\n  </tbody>\n</table>\n<p>8 rows × 41 columns</p>\n</div>"
     },
     "metadata": {},
     "execution_count": 9
    }
   ],
   "source": [
    "#Tratando nomes dos países para garantir igualdades\n",
    "iso_code['name'] = iso_code['name'].str.strip()\n",
    "\n",
    "indice_idh_iso_code = pd.merge(left=indice_idh, right=iso_code, how='left', left_on=['Country'], right_on=['name'])\n",
    "\n",
    "#Verificando os países com problema\n",
    "indice_idh_iso_code[indice_idh_iso_code['name'].isnull()]"
   ]
  },
  {
   "cell_type": "code",
   "execution_count": 10,
   "metadata": {},
   "outputs": [
    {
     "output_type": "execute_result",
     "data": {
      "text/plain": [
       "    HDI Rank                             Country   1990   1991      1992  \\\n",
       "26       176  Congo (Democratic Republic of the)  0.356  0.353  0.601892   \n",
       "\n",
       "    1993   1994   1995   1996   1997  ...  alpha-2  alpha-3  country-code  \\\n",
       "26  0.34  0.334  0.333  0.337  0.334  ...      NaN      NaN           NaN   \n",
       "\n",
       "    iso_3166-2  region  sub-region  intermediate-region  region-code  \\\n",
       "26         NaN     NaN         NaN                  NaN          NaN   \n",
       "\n",
       "    sub-region-code  intermediate-region-code  \n",
       "26              NaN                       NaN  \n",
       "\n",
       "[1 rows x 41 columns]"
      ],
      "text/html": "<div>\n<style scoped>\n    .dataframe tbody tr th:only-of-type {\n        vertical-align: middle;\n    }\n\n    .dataframe tbody tr th {\n        vertical-align: top;\n    }\n\n    .dataframe thead th {\n        text-align: right;\n    }\n</style>\n<table border=\"1\" class=\"dataframe\">\n  <thead>\n    <tr style=\"text-align: right;\">\n      <th></th>\n      <th>HDI Rank</th>\n      <th>Country</th>\n      <th>1990</th>\n      <th>1991</th>\n      <th>1992</th>\n      <th>1993</th>\n      <th>1994</th>\n      <th>1995</th>\n      <th>1996</th>\n      <th>1997</th>\n      <th>...</th>\n      <th>alpha-2</th>\n      <th>alpha-3</th>\n      <th>country-code</th>\n      <th>iso_3166-2</th>\n      <th>region</th>\n      <th>sub-region</th>\n      <th>intermediate-region</th>\n      <th>region-code</th>\n      <th>sub-region-code</th>\n      <th>intermediate-region-code</th>\n    </tr>\n  </thead>\n  <tbody>\n    <tr>\n      <th>26</th>\n      <td>176</td>\n      <td>Congo (Democratic Republic of the)</td>\n      <td>0.356</td>\n      <td>0.353</td>\n      <td>0.601892</td>\n      <td>0.34</td>\n      <td>0.334</td>\n      <td>0.333</td>\n      <td>0.337</td>\n      <td>0.334</td>\n      <td>...</td>\n      <td>NaN</td>\n      <td>NaN</td>\n      <td>NaN</td>\n      <td>NaN</td>\n      <td>NaN</td>\n      <td>NaN</td>\n      <td>NaN</td>\n      <td>NaN</td>\n      <td>NaN</td>\n      <td>NaN</td>\n    </tr>\n  </tbody>\n</table>\n<p>1 rows × 41 columns</p>\n</div>"
     },
     "metadata": {},
     "execution_count": 10
    }
   ],
   "source": [
    "#Vou atualizar o nome dos países para consertar\n",
    "indice_idh['Country'].replace(\n",
    "    {\n",
    "        'Eswatini (Kingdom of)'             : 'Eswatini', \n",
    "        'Hong Kong, China (SAR)'            : 'Hong Kong', \n",
    "        'Korea (Republic of)'               : 'Korea, Republic of',\n",
    "        'Moldova (Republic of)'             : 'Moldova, Republic of',\n",
    "        'Tanzania (United Republic of)'     : 'Tanzania, United Republic of',\n",
    "        'United Kingdom'                    : 'United Kingdom of Great Britain and Northern Ireland',\n",
    "        'United States'                     : 'United States of America'\n",
    "    }\n",
    ", inplace=True)\n",
    "\n",
    "#Re aglutinando dados\n",
    "indice_idh_iso_code = pd.merge(left=indice_idh, right=iso_code, how='left', left_on=['Country'], right_on=['name'])\n",
    "\n",
    "#Verificando os países com problema\n",
    "indice_idh_iso_code[indice_idh_iso_code['name'].isnull()]"
   ]
  },
  {
   "cell_type": "code",
   "execution_count": 11,
   "metadata": {},
   "outputs": [
    {
     "output_type": "execute_result",
     "data": {
      "text/plain": [
       "   HDI Rank    Country   1990   1991   1992   1993   1994   1995   1996  \\\n",
       "0        68    Albania  0.645  0.626  0.610  0.613  0.619  0.632  0.641   \n",
       "1        85    Algeria  0.577  0.581  0.587  0.591  0.595  0.600  0.608   \n",
       "2        47  Argentina  0.704  0.713  0.720  0.725  0.728  0.731  0.738   \n",
       "3        83    Armenia  0.631  0.628  0.580  0.588  0.599  0.605  0.612   \n",
       "4         3  Australia  0.866  0.867  0.868  0.872  0.875  0.883  0.886   \n",
       "\n",
       "    1997  ...  alpha-2  alpha-3  country-code     iso_3166-2    region  \\\n",
       "0  0.641  ...       AL      ALB           8.0  ISO 3166-2:AL    Europe   \n",
       "1  0.617  ...       DZ      DZA          12.0  ISO 3166-2:DZ    Africa   \n",
       "2  0.746  ...       AR      ARG          32.0  ISO 3166-2:AR  Americas   \n",
       "3  0.623  ...       AM      ARM          51.0  ISO 3166-2:AM      Asia   \n",
       "4  0.889  ...       AU      AUS          36.0  ISO 3166-2:AU   Oceania   \n",
       "\n",
       "                        sub-region  intermediate-region  region-code  \\\n",
       "0                  Southern Europe                  NaN        150.0   \n",
       "1                  Northern Africa                  NaN          2.0   \n",
       "2  Latin America and the Caribbean        South America         19.0   \n",
       "3                     Western Asia                  NaN        142.0   \n",
       "4        Australia and New Zealand                  NaN          9.0   \n",
       "\n",
       "   sub-region-code  intermediate-region-code  \n",
       "0             39.0                       NaN  \n",
       "1             15.0                       NaN  \n",
       "2            419.0                       5.0  \n",
       "3            145.0                       NaN  \n",
       "4             53.0                       NaN  \n",
       "\n",
       "[5 rows x 41 columns]"
      ],
      "text/html": "<div>\n<style scoped>\n    .dataframe tbody tr th:only-of-type {\n        vertical-align: middle;\n    }\n\n    .dataframe tbody tr th {\n        vertical-align: top;\n    }\n\n    .dataframe thead th {\n        text-align: right;\n    }\n</style>\n<table border=\"1\" class=\"dataframe\">\n  <thead>\n    <tr style=\"text-align: right;\">\n      <th></th>\n      <th>HDI Rank</th>\n      <th>Country</th>\n      <th>1990</th>\n      <th>1991</th>\n      <th>1992</th>\n      <th>1993</th>\n      <th>1994</th>\n      <th>1995</th>\n      <th>1996</th>\n      <th>1997</th>\n      <th>...</th>\n      <th>alpha-2</th>\n      <th>alpha-3</th>\n      <th>country-code</th>\n      <th>iso_3166-2</th>\n      <th>region</th>\n      <th>sub-region</th>\n      <th>intermediate-region</th>\n      <th>region-code</th>\n      <th>sub-region-code</th>\n      <th>intermediate-region-code</th>\n    </tr>\n  </thead>\n  <tbody>\n    <tr>\n      <th>0</th>\n      <td>68</td>\n      <td>Albania</td>\n      <td>0.645</td>\n      <td>0.626</td>\n      <td>0.610</td>\n      <td>0.613</td>\n      <td>0.619</td>\n      <td>0.632</td>\n      <td>0.641</td>\n      <td>0.641</td>\n      <td>...</td>\n      <td>AL</td>\n      <td>ALB</td>\n      <td>8.0</td>\n      <td>ISO 3166-2:AL</td>\n      <td>Europe</td>\n      <td>Southern Europe</td>\n      <td>NaN</td>\n      <td>150.0</td>\n      <td>39.0</td>\n      <td>NaN</td>\n    </tr>\n    <tr>\n      <th>1</th>\n      <td>85</td>\n      <td>Algeria</td>\n      <td>0.577</td>\n      <td>0.581</td>\n      <td>0.587</td>\n      <td>0.591</td>\n      <td>0.595</td>\n      <td>0.600</td>\n      <td>0.608</td>\n      <td>0.617</td>\n      <td>...</td>\n      <td>DZ</td>\n      <td>DZA</td>\n      <td>12.0</td>\n      <td>ISO 3166-2:DZ</td>\n      <td>Africa</td>\n      <td>Northern Africa</td>\n      <td>NaN</td>\n      <td>2.0</td>\n      <td>15.0</td>\n      <td>NaN</td>\n    </tr>\n    <tr>\n      <th>2</th>\n      <td>47</td>\n      <td>Argentina</td>\n      <td>0.704</td>\n      <td>0.713</td>\n      <td>0.720</td>\n      <td>0.725</td>\n      <td>0.728</td>\n      <td>0.731</td>\n      <td>0.738</td>\n      <td>0.746</td>\n      <td>...</td>\n      <td>AR</td>\n      <td>ARG</td>\n      <td>32.0</td>\n      <td>ISO 3166-2:AR</td>\n      <td>Americas</td>\n      <td>Latin America and the Caribbean</td>\n      <td>South America</td>\n      <td>19.0</td>\n      <td>419.0</td>\n      <td>5.0</td>\n    </tr>\n    <tr>\n      <th>3</th>\n      <td>83</td>\n      <td>Armenia</td>\n      <td>0.631</td>\n      <td>0.628</td>\n      <td>0.580</td>\n      <td>0.588</td>\n      <td>0.599</td>\n      <td>0.605</td>\n      <td>0.612</td>\n      <td>0.623</td>\n      <td>...</td>\n      <td>AM</td>\n      <td>ARM</td>\n      <td>51.0</td>\n      <td>ISO 3166-2:AM</td>\n      <td>Asia</td>\n      <td>Western Asia</td>\n      <td>NaN</td>\n      <td>142.0</td>\n      <td>145.0</td>\n      <td>NaN</td>\n    </tr>\n    <tr>\n      <th>4</th>\n      <td>3</td>\n      <td>Australia</td>\n      <td>0.866</td>\n      <td>0.867</td>\n      <td>0.868</td>\n      <td>0.872</td>\n      <td>0.875</td>\n      <td>0.883</td>\n      <td>0.886</td>\n      <td>0.889</td>\n      <td>...</td>\n      <td>AU</td>\n      <td>AUS</td>\n      <td>36.0</td>\n      <td>ISO 3166-2:AU</td>\n      <td>Oceania</td>\n      <td>Australia and New Zealand</td>\n      <td>NaN</td>\n      <td>9.0</td>\n      <td>53.0</td>\n      <td>NaN</td>\n    </tr>\n  </tbody>\n</table>\n<p>5 rows × 41 columns</p>\n</div>"
     },
     "metadata": {},
     "execution_count": 11
    }
   ],
   "source": [
    "#Agora temos o indice IDH com o ISO_CODE\n",
    "indice_idh_iso_code.head()"
   ]
  },
  {
   "cell_type": "code",
   "execution_count": 12,
   "metadata": {},
   "outputs": [],
   "source": [
    "#Salvando o indice IDH por país\n",
    "indice_idh_iso_code.to_csv(path_or_buf='./csv/indice_idh_porPais.csv')"
   ]
  },
  {
   "cell_type": "code",
   "execution_count": 13,
   "metadata": {},
   "outputs": [
    {
     "output_type": "execute_result",
     "data": {
      "text/plain": [
       "     Country alpha-2 alpha-3  country-code     iso_3166-2    region  \\\n",
       "0    Albania      AL     ALB           8.0  ISO 3166-2:AL    Europe   \n",
       "1    Algeria      DZ     DZA          12.0  ISO 3166-2:DZ    Africa   \n",
       "2  Argentina      AR     ARG          32.0  ISO 3166-2:AR  Americas   \n",
       "3    Armenia      AM     ARM          51.0  ISO 3166-2:AM      Asia   \n",
       "4  Australia      AU     AUS          36.0  ISO 3166-2:AU   Oceania   \n",
       "\n",
       "                        sub-region intermediate-region  region-code  \\\n",
       "0                  Southern Europe                 NaN        150.0   \n",
       "1                  Northern Africa                 NaN          2.0   \n",
       "2  Latin America and the Caribbean       South America         19.0   \n",
       "3                     Western Asia                 NaN        142.0   \n",
       "4        Australia and New Zealand                 NaN          9.0   \n",
       "\n",
       "   sub-region-code  intermediate-region-code  Year    IDH  \n",
       "0             39.0                       NaN  1990  0.645  \n",
       "1             15.0                       NaN  1990  0.577  \n",
       "2            419.0                       5.0  1990  0.704  \n",
       "3            145.0                       NaN  1990  0.631  \n",
       "4             53.0                       NaN  1990  0.866  "
      ],
      "text/html": "<div>\n<style scoped>\n    .dataframe tbody tr th:only-of-type {\n        vertical-align: middle;\n    }\n\n    .dataframe tbody tr th {\n        vertical-align: top;\n    }\n\n    .dataframe thead th {\n        text-align: right;\n    }\n</style>\n<table border=\"1\" class=\"dataframe\">\n  <thead>\n    <tr style=\"text-align: right;\">\n      <th></th>\n      <th>Country</th>\n      <th>alpha-2</th>\n      <th>alpha-3</th>\n      <th>country-code</th>\n      <th>iso_3166-2</th>\n      <th>region</th>\n      <th>sub-region</th>\n      <th>intermediate-region</th>\n      <th>region-code</th>\n      <th>sub-region-code</th>\n      <th>intermediate-region-code</th>\n      <th>Year</th>\n      <th>IDH</th>\n    </tr>\n  </thead>\n  <tbody>\n    <tr>\n      <th>0</th>\n      <td>Albania</td>\n      <td>AL</td>\n      <td>ALB</td>\n      <td>8.0</td>\n      <td>ISO 3166-2:AL</td>\n      <td>Europe</td>\n      <td>Southern Europe</td>\n      <td>NaN</td>\n      <td>150.0</td>\n      <td>39.0</td>\n      <td>NaN</td>\n      <td>1990</td>\n      <td>0.645</td>\n    </tr>\n    <tr>\n      <th>1</th>\n      <td>Algeria</td>\n      <td>DZ</td>\n      <td>DZA</td>\n      <td>12.0</td>\n      <td>ISO 3166-2:DZ</td>\n      <td>Africa</td>\n      <td>Northern Africa</td>\n      <td>NaN</td>\n      <td>2.0</td>\n      <td>15.0</td>\n      <td>NaN</td>\n      <td>1990</td>\n      <td>0.577</td>\n    </tr>\n    <tr>\n      <th>2</th>\n      <td>Argentina</td>\n      <td>AR</td>\n      <td>ARG</td>\n      <td>32.0</td>\n      <td>ISO 3166-2:AR</td>\n      <td>Americas</td>\n      <td>Latin America and the Caribbean</td>\n      <td>South America</td>\n      <td>19.0</td>\n      <td>419.0</td>\n      <td>5.0</td>\n      <td>1990</td>\n      <td>0.704</td>\n    </tr>\n    <tr>\n      <th>3</th>\n      <td>Armenia</td>\n      <td>AM</td>\n      <td>ARM</td>\n      <td>51.0</td>\n      <td>ISO 3166-2:AM</td>\n      <td>Asia</td>\n      <td>Western Asia</td>\n      <td>NaN</td>\n      <td>142.0</td>\n      <td>145.0</td>\n      <td>NaN</td>\n      <td>1990</td>\n      <td>0.631</td>\n    </tr>\n    <tr>\n      <th>4</th>\n      <td>Australia</td>\n      <td>AU</td>\n      <td>AUS</td>\n      <td>36.0</td>\n      <td>ISO 3166-2:AU</td>\n      <td>Oceania</td>\n      <td>Australia and New Zealand</td>\n      <td>NaN</td>\n      <td>9.0</td>\n      <td>53.0</td>\n      <td>NaN</td>\n      <td>1990</td>\n      <td>0.866</td>\n    </tr>\n  </tbody>\n</table>\n</div>"
     },
     "metadata": {},
     "execution_count": 13
    }
   ],
   "source": [
    "#Porém é interessante também separar por ano para termos uma informação parecida com o indice de lib. economica\n",
    "indice_idh_iso_code_porAno = indice_idh_iso_code.melt(id_vars=['Country','alpha-2','alpha-3',\n",
    "'country-code','iso_3166-2','region','sub-region','intermediate-region','region-code','sub-region-code','intermediate-region-code'], \n",
    "value_vars=['1990','1991','1992','1993','1994','1995','1996','1997','1998','1999','2000','2001','2002','2003',\n",
    "'2004','2005','2006','2007','2008','2009','2010','2011','2012','2013','2014','2015','2016','2017'], var_name=\"Year\", value_name=\"IDH\")\n",
    "#Verificando resultado\n",
    "indice_idh_iso_code_porAno.head()"
   ]
  },
  {
   "cell_type": "code",
   "execution_count": 14,
   "metadata": {},
   "outputs": [],
   "source": [
    "#Salvando o indice IDH por ANO\n",
    "indice_idh_iso_code_porAno.to_csv(path_or_buf='./csv/indice_idh_porAno.csv')"
   ]
  }
 ]
}