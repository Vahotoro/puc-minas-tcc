{
 "metadata": {
  "language_info": {
   "codemirror_mode": {
    "name": "ipython",
    "version": 3
   },
   "file_extension": ".py",
   "mimetype": "text/x-python",
   "name": "python",
   "nbconvert_exporter": "python",
   "pygments_lexer": "ipython3",
   "version": "3.8.3-final"
  },
  "orig_nbformat": 2,
  "kernelspec": {
   "name": "python3",
   "display_name": "Python 3.8.3 32-bit",
   "metadata": {
    "interpreter": {
     "hash": "69f52b3447690a3e3dca3d2129352a9d58fa560847dc3f0136f4fe2094dbfcaa"
    }
   }
  }
 },
 "nbformat": 4,
 "nbformat_minor": 2,
 "cells": [
  {
   "cell_type": "code",
   "execution_count": 17,
   "metadata": {},
   "outputs": [],
   "source": [
    "import math as m\n",
    "import pandas as pd\n",
    "import numpy as np\n",
    "import pprint\n",
    "import matplotlib.pyplot as plt"
   ]
  },
  {
   "cell_type": "code",
   "execution_count": 18,
   "metadata": {},
   "outputs": [],
   "source": [
    "indice_gni = pd.read_csv('./csv/gni_per_capita.csv', header = 0)\n",
    "iso_code = pd.read_csv('./csv/iso_code.csv', header = 0)"
   ]
  },
  {
   "cell_type": "code",
   "execution_count": 19,
   "metadata": {},
   "outputs": [
    {
     "output_type": "stream",
     "name": "stdout",
     "text": [
      "<class 'pandas.core.frame.DataFrame'>\nRangeIndex: 208 entries, 0 to 207\nData columns (total 31 columns):\n #   Column   Non-Null Count  Dtype \n---  ------   --------------  ----- \n 0   Country  208 non-null    object\n 1   1990     208 non-null    object\n 2   1991     208 non-null    object\n 3   1992     208 non-null    object\n 4   1993     208 non-null    object\n 5   1994     208 non-null    object\n 6   1995     208 non-null    object\n 7   1996     208 non-null    object\n 8   1997     208 non-null    object\n 9   1998     208 non-null    object\n 10  1999     208 non-null    object\n 11  2000     208 non-null    object\n 12  2001     208 non-null    object\n 13  2002     208 non-null    object\n 14  2003     208 non-null    object\n 15  2004     208 non-null    object\n 16  2005     208 non-null    object\n 17  2006     208 non-null    object\n 18  2007     208 non-null    object\n 19  2008     208 non-null    object\n 20  2009     208 non-null    object\n 21  2010     208 non-null    object\n 22  2011     208 non-null    object\n 23  2012     208 non-null    object\n 24  2013     208 non-null    object\n 25  2014     208 non-null    object\n 26  2015     208 non-null    object\n 27  2016     208 non-null    object\n 28  2017     208 non-null    object\n 29  2018     208 non-null    object\n 30  Info     13 non-null     object\ndtypes: object(31)\nmemory usage: 25.2+ KB\n"
     ]
    }
   ],
   "source": [
    "# Verificando\n",
    "indice_gni.info()"
   ]
  },
  {
   "cell_type": "code",
   "execution_count": 20,
   "metadata": {},
   "outputs": [
    {
     "output_type": "execute_result",
     "data": {
      "text/plain": [
       "Country      0\n",
       "1990         0\n",
       "1991         0\n",
       "1992         0\n",
       "1993         0\n",
       "1994         0\n",
       "1995         0\n",
       "1996         0\n",
       "1997         0\n",
       "1998         0\n",
       "1999         0\n",
       "2000         0\n",
       "2001         0\n",
       "2002         0\n",
       "2003         0\n",
       "2004         0\n",
       "2005         0\n",
       "2006         0\n",
       "2007         0\n",
       "2008         0\n",
       "2009         0\n",
       "2010         0\n",
       "2011         0\n",
       "2012         0\n",
       "2013         0\n",
       "2014         0\n",
       "2015         0\n",
       "2016         0\n",
       "2017         0\n",
       "2018         0\n",
       "Info       195\n",
       "dtype: int64"
      ]
     },
     "metadata": {},
     "execution_count": 20
    }
   ],
   "source": [
    "#Iniciando análise de \"missing values\" [valores faltantes] contando em toda tabela \n",
    "indice_gni.isnull().sum()"
   ]
  },
  {
   "cell_type": "code",
   "execution_count": 21,
   "metadata": {},
   "outputs": [
    {
     "output_type": "execute_result",
     "data": {
      "text/plain": [
       "   Country   1990   1991  1992   1993   1994   1995   1996   1997   1998  ...  \\\n",
       "23  Brazil  10082  10089  9905  10142  10368  10901  10835  10973  10707  ...   \n",
       "\n",
       "     2009   2010   2011   2012   2013   2014   2015   2016   2017   2018  \n",
       "23  13424  14194  14670  14892  15351  15177  14490  13907  13975  14068  \n",
       "\n",
       "[1 rows x 30 columns]"
      ],
      "text/html": "<div>\n<style scoped>\n    .dataframe tbody tr th:only-of-type {\n        vertical-align: middle;\n    }\n\n    .dataframe tbody tr th {\n        vertical-align: top;\n    }\n\n    .dataframe thead th {\n        text-align: right;\n    }\n</style>\n<table border=\"1\" class=\"dataframe\">\n  <thead>\n    <tr style=\"text-align: right;\">\n      <th></th>\n      <th>Country</th>\n      <th>1990</th>\n      <th>1991</th>\n      <th>1992</th>\n      <th>1993</th>\n      <th>1994</th>\n      <th>1995</th>\n      <th>1996</th>\n      <th>1997</th>\n      <th>1998</th>\n      <th>...</th>\n      <th>2009</th>\n      <th>2010</th>\n      <th>2011</th>\n      <th>2012</th>\n      <th>2013</th>\n      <th>2014</th>\n      <th>2015</th>\n      <th>2016</th>\n      <th>2017</th>\n      <th>2018</th>\n    </tr>\n  </thead>\n  <tbody>\n    <tr>\n      <th>23</th>\n      <td>Brazil</td>\n      <td>10082</td>\n      <td>10089</td>\n      <td>9905</td>\n      <td>10142</td>\n      <td>10368</td>\n      <td>10901</td>\n      <td>10835</td>\n      <td>10973</td>\n      <td>10707</td>\n      <td>...</td>\n      <td>13424</td>\n      <td>14194</td>\n      <td>14670</td>\n      <td>14892</td>\n      <td>15351</td>\n      <td>15177</td>\n      <td>14490</td>\n      <td>13907</td>\n      <td>13975</td>\n      <td>14068</td>\n    </tr>\n  </tbody>\n</table>\n<p>1 rows × 30 columns</p>\n</div>"
     },
     "metadata": {},
     "execution_count": 21
    }
   ],
   "source": [
    "#Notando que o dataframe pode ter problemas de espaços adicionais\n",
    "#Vou repará-los\n",
    "del indice_gni['Info']\n",
    "indice_gni['Country'] = indice_gni['Country'].str.strip()\n",
    "indice_gni[indice_gni['Country'] == 'Brazil']"
   ]
  },
  {
   "cell_type": "code",
   "execution_count": 22,
   "metadata": {},
   "outputs": [
    {
     "output_type": "execute_result",
     "data": {
      "text/plain": [
       "                                               Country   1990   1991   1992  \\\n",
       "39                  Congo (Democratic Republic of the)   2054   1684   1550   \n",
       "45                                      CÃ´te d'Ivoire   2806   2759   2686   \n",
       "56                               Eswatini (Kingdom of)   5927   5914   5978   \n",
       "74                              Hong Kong; China (SAR)  26175  27273  28669   \n",
       "90                                 Korea (Republic of)  11614  12687  13326   \n",
       "113                              Moldova (Republic of)   6743   5552   3902   \n",
       "132                                Palestine; State of   1079    984   1176   \n",
       "168                      Tanzania (United Republic of)   1490   1478   1434   \n",
       "181                                     United Kingdom  26485  26133  26228   \n",
       "182                                      United States  37154  36597  37350   \n",
       "191                                  Human Development            ..     ..   \n",
       "192                        Very high human development  26297  26152  26068   \n",
       "193                             High human development   4416   4532   4619   \n",
       "194                           Medium human development   2131   2031   2072   \n",
       "195                              Low human development   1871   1813   1797   \n",
       "196                               Developing Countries   3901   3930   4009   \n",
       "197                                            Regions            ..     ..   \n",
       "198                                        Arab States  10779  10364  10705   \n",
       "199                          East Asia and the Pacific   2269   2408   2619   \n",
       "200                            Europe and Central Asia   9261   8651   7903   \n",
       "201                    Latin America and the Caribbean   9499   9716   9831   \n",
       "202                                         South Asia   2424   2461   2526   \n",
       "203                                 Sub-Saharan Africa   2638   2579   2441   \n",
       "204                          Least Developed Countries   1369   1343   1266   \n",
       "205                     Small Island Developing States   6907   7007   7181   \n",
       "206  Organization for Economic Co-operation and Dev...  27153  27133  27373   \n",
       "207                                              World   8959   8884   8855   \n",
       "\n",
       "      1993   1994   1995   1996   1997   1998  ... alpha-2 alpha-3  \\\n",
       "39    1330    729    696    725    664    642  ...     NaN     NaN   \n",
       "45    2579   2600   2704   2865   2925   3025  ...     NaN     NaN   \n",
       "56    5855   5593   6092   6391   6468   6256  ...     NaN     NaN   \n",
       "74   31307  32332  32678  31988  33624  32084  ...     NaN     NaN   \n",
       "90   14091  15213  16482  17573  18400  17121  ...     NaN     NaN   \n",
       "113   3871   2686   3104   3062   3104   2892  ...     NaN     NaN   \n",
       "132   1241   3641   3749   3595   3987   4584  ...     NaN     NaN   \n",
       "168   1407   1389   1407   1449   1457   1485  ...     NaN     NaN   \n",
       "181  26800  27864  28410  29072  30283  31365  ...     NaN     NaN   \n",
       "182  37867  38858  39449  40470  41718  43049  ...     NaN     NaN   \n",
       "191     ..     ..     ..     ..     ..     ..  ...     NaN     NaN   \n",
       "192  26091  26408  26950  27549  28347  28787  ...     NaN     NaN   \n",
       "193   4767   4947   5109   5328   5548   5576  ...     NaN     NaN   \n",
       "194   2124   2197   2303   2414   2476   2593  ...     NaN     NaN   \n",
       "195   1723   1636   1652   1716   1748   1771  ...     NaN     NaN   \n",
       "196   4109   4204   4333   4504   4666   4718  ...     NaN     NaN   \n",
       "197     ..     ..     ..     ..     ..     ..  ...     NaN     NaN   \n",
       "198  10772  10795  10877  11087  11399  11870  ...     NaN     NaN   \n",
       "199   2860   3128   3359   3609   3816   3793  ...     NaN     NaN   \n",
       "200   7497   6650   6637   6820   7146   7299  ...     NaN     NaN   \n",
       "201  10041  10296  10283  10472  10851  10906  ...     NaN     NaN   \n",
       "202   2558   2603   2718   2823   2856   2940  ...     NaN     NaN   \n",
       "203   2363   2285   2330   2387   2421   2417  ...     NaN     NaN   \n",
       "204   1253   1176   1248   1298   1343   1374  ...     NaN     NaN   \n",
       "205   7393   7716   8068   8387   8803   8709  ...     NaN     NaN   \n",
       "206  27511  28097  28635  29380  30249  30892  ...     NaN     NaN   \n",
       "207   8877   8987   9160   9374   9617   9713  ...     NaN     NaN   \n",
       "\n",
       "    country-code iso_3166-2 region sub-region intermediate-region region-code  \\\n",
       "39           NaN        NaN    NaN        NaN                 NaN         NaN   \n",
       "45           NaN        NaN    NaN        NaN                 NaN         NaN   \n",
       "56           NaN        NaN    NaN        NaN                 NaN         NaN   \n",
       "74           NaN        NaN    NaN        NaN                 NaN         NaN   \n",
       "90           NaN        NaN    NaN        NaN                 NaN         NaN   \n",
       "113          NaN        NaN    NaN        NaN                 NaN         NaN   \n",
       "132          NaN        NaN    NaN        NaN                 NaN         NaN   \n",
       "168          NaN        NaN    NaN        NaN                 NaN         NaN   \n",
       "181          NaN        NaN    NaN        NaN                 NaN         NaN   \n",
       "182          NaN        NaN    NaN        NaN                 NaN         NaN   \n",
       "191          NaN        NaN    NaN        NaN                 NaN         NaN   \n",
       "192          NaN        NaN    NaN        NaN                 NaN         NaN   \n",
       "193          NaN        NaN    NaN        NaN                 NaN         NaN   \n",
       "194          NaN        NaN    NaN        NaN                 NaN         NaN   \n",
       "195          NaN        NaN    NaN        NaN                 NaN         NaN   \n",
       "196          NaN        NaN    NaN        NaN                 NaN         NaN   \n",
       "197          NaN        NaN    NaN        NaN                 NaN         NaN   \n",
       "198          NaN        NaN    NaN        NaN                 NaN         NaN   \n",
       "199          NaN        NaN    NaN        NaN                 NaN         NaN   \n",
       "200          NaN        NaN    NaN        NaN                 NaN         NaN   \n",
       "201          NaN        NaN    NaN        NaN                 NaN         NaN   \n",
       "202          NaN        NaN    NaN        NaN                 NaN         NaN   \n",
       "203          NaN        NaN    NaN        NaN                 NaN         NaN   \n",
       "204          NaN        NaN    NaN        NaN                 NaN         NaN   \n",
       "205          NaN        NaN    NaN        NaN                 NaN         NaN   \n",
       "206          NaN        NaN    NaN        NaN                 NaN         NaN   \n",
       "207          NaN        NaN    NaN        NaN                 NaN         NaN   \n",
       "\n",
       "    sub-region-code intermediate-region-code  \n",
       "39              NaN                      NaN  \n",
       "45              NaN                      NaN  \n",
       "56              NaN                      NaN  \n",
       "74              NaN                      NaN  \n",
       "90              NaN                      NaN  \n",
       "113             NaN                      NaN  \n",
       "132             NaN                      NaN  \n",
       "168             NaN                      NaN  \n",
       "181             NaN                      NaN  \n",
       "182             NaN                      NaN  \n",
       "191             NaN                      NaN  \n",
       "192             NaN                      NaN  \n",
       "193             NaN                      NaN  \n",
       "194             NaN                      NaN  \n",
       "195             NaN                      NaN  \n",
       "196             NaN                      NaN  \n",
       "197             NaN                      NaN  \n",
       "198             NaN                      NaN  \n",
       "199             NaN                      NaN  \n",
       "200             NaN                      NaN  \n",
       "201             NaN                      NaN  \n",
       "202             NaN                      NaN  \n",
       "203             NaN                      NaN  \n",
       "204             NaN                      NaN  \n",
       "205             NaN                      NaN  \n",
       "206             NaN                      NaN  \n",
       "207             NaN                      NaN  \n",
       "\n",
       "[27 rows x 41 columns]"
      ],
      "text/html": "<div>\n<style scoped>\n    .dataframe tbody tr th:only-of-type {\n        vertical-align: middle;\n    }\n\n    .dataframe tbody tr th {\n        vertical-align: top;\n    }\n\n    .dataframe thead th {\n        text-align: right;\n    }\n</style>\n<table border=\"1\" class=\"dataframe\">\n  <thead>\n    <tr style=\"text-align: right;\">\n      <th></th>\n      <th>Country</th>\n      <th>1990</th>\n      <th>1991</th>\n      <th>1992</th>\n      <th>1993</th>\n      <th>1994</th>\n      <th>1995</th>\n      <th>1996</th>\n      <th>1997</th>\n      <th>1998</th>\n      <th>...</th>\n      <th>alpha-2</th>\n      <th>alpha-3</th>\n      <th>country-code</th>\n      <th>iso_3166-2</th>\n      <th>region</th>\n      <th>sub-region</th>\n      <th>intermediate-region</th>\n      <th>region-code</th>\n      <th>sub-region-code</th>\n      <th>intermediate-region-code</th>\n    </tr>\n  </thead>\n  <tbody>\n    <tr>\n      <th>39</th>\n      <td>Congo (Democratic Republic of the)</td>\n      <td>2054</td>\n      <td>1684</td>\n      <td>1550</td>\n      <td>1330</td>\n      <td>729</td>\n      <td>696</td>\n      <td>725</td>\n      <td>664</td>\n      <td>642</td>\n      <td>...</td>\n      <td>NaN</td>\n      <td>NaN</td>\n      <td>NaN</td>\n      <td>NaN</td>\n      <td>NaN</td>\n      <td>NaN</td>\n      <td>NaN</td>\n      <td>NaN</td>\n      <td>NaN</td>\n      <td>NaN</td>\n    </tr>\n    <tr>\n      <th>45</th>\n      <td>CÃ´te d'Ivoire</td>\n      <td>2806</td>\n      <td>2759</td>\n      <td>2686</td>\n      <td>2579</td>\n      <td>2600</td>\n      <td>2704</td>\n      <td>2865</td>\n      <td>2925</td>\n      <td>3025</td>\n      <td>...</td>\n      <td>NaN</td>\n      <td>NaN</td>\n      <td>NaN</td>\n      <td>NaN</td>\n      <td>NaN</td>\n      <td>NaN</td>\n      <td>NaN</td>\n      <td>NaN</td>\n      <td>NaN</td>\n      <td>NaN</td>\n    </tr>\n    <tr>\n      <th>56</th>\n      <td>Eswatini (Kingdom of)</td>\n      <td>5927</td>\n      <td>5914</td>\n      <td>5978</td>\n      <td>5855</td>\n      <td>5593</td>\n      <td>6092</td>\n      <td>6391</td>\n      <td>6468</td>\n      <td>6256</td>\n      <td>...</td>\n      <td>NaN</td>\n      <td>NaN</td>\n      <td>NaN</td>\n      <td>NaN</td>\n      <td>NaN</td>\n      <td>NaN</td>\n      <td>NaN</td>\n      <td>NaN</td>\n      <td>NaN</td>\n      <td>NaN</td>\n    </tr>\n    <tr>\n      <th>74</th>\n      <td>Hong Kong; China (SAR)</td>\n      <td>26175</td>\n      <td>27273</td>\n      <td>28669</td>\n      <td>31307</td>\n      <td>32332</td>\n      <td>32678</td>\n      <td>31988</td>\n      <td>33624</td>\n      <td>32084</td>\n      <td>...</td>\n      <td>NaN</td>\n      <td>NaN</td>\n      <td>NaN</td>\n      <td>NaN</td>\n      <td>NaN</td>\n      <td>NaN</td>\n      <td>NaN</td>\n      <td>NaN</td>\n      <td>NaN</td>\n      <td>NaN</td>\n    </tr>\n    <tr>\n      <th>90</th>\n      <td>Korea (Republic of)</td>\n      <td>11614</td>\n      <td>12687</td>\n      <td>13326</td>\n      <td>14091</td>\n      <td>15213</td>\n      <td>16482</td>\n      <td>17573</td>\n      <td>18400</td>\n      <td>17121</td>\n      <td>...</td>\n      <td>NaN</td>\n      <td>NaN</td>\n      <td>NaN</td>\n      <td>NaN</td>\n      <td>NaN</td>\n      <td>NaN</td>\n      <td>NaN</td>\n      <td>NaN</td>\n      <td>NaN</td>\n      <td>NaN</td>\n    </tr>\n    <tr>\n      <th>113</th>\n      <td>Moldova (Republic of)</td>\n      <td>6743</td>\n      <td>5552</td>\n      <td>3902</td>\n      <td>3871</td>\n      <td>2686</td>\n      <td>3104</td>\n      <td>3062</td>\n      <td>3104</td>\n      <td>2892</td>\n      <td>...</td>\n      <td>NaN</td>\n      <td>NaN</td>\n      <td>NaN</td>\n      <td>NaN</td>\n      <td>NaN</td>\n      <td>NaN</td>\n      <td>NaN</td>\n      <td>NaN</td>\n      <td>NaN</td>\n      <td>NaN</td>\n    </tr>\n    <tr>\n      <th>132</th>\n      <td>Palestine; State of</td>\n      <td>1079</td>\n      <td>984</td>\n      <td>1176</td>\n      <td>1241</td>\n      <td>3641</td>\n      <td>3749</td>\n      <td>3595</td>\n      <td>3987</td>\n      <td>4584</td>\n      <td>...</td>\n      <td>NaN</td>\n      <td>NaN</td>\n      <td>NaN</td>\n      <td>NaN</td>\n      <td>NaN</td>\n      <td>NaN</td>\n      <td>NaN</td>\n      <td>NaN</td>\n      <td>NaN</td>\n      <td>NaN</td>\n    </tr>\n    <tr>\n      <th>168</th>\n      <td>Tanzania (United Republic of)</td>\n      <td>1490</td>\n      <td>1478</td>\n      <td>1434</td>\n      <td>1407</td>\n      <td>1389</td>\n      <td>1407</td>\n      <td>1449</td>\n      <td>1457</td>\n      <td>1485</td>\n      <td>...</td>\n      <td>NaN</td>\n      <td>NaN</td>\n      <td>NaN</td>\n      <td>NaN</td>\n      <td>NaN</td>\n      <td>NaN</td>\n      <td>NaN</td>\n      <td>NaN</td>\n      <td>NaN</td>\n      <td>NaN</td>\n    </tr>\n    <tr>\n      <th>181</th>\n      <td>United Kingdom</td>\n      <td>26485</td>\n      <td>26133</td>\n      <td>26228</td>\n      <td>26800</td>\n      <td>27864</td>\n      <td>28410</td>\n      <td>29072</td>\n      <td>30283</td>\n      <td>31365</td>\n      <td>...</td>\n      <td>NaN</td>\n      <td>NaN</td>\n      <td>NaN</td>\n      <td>NaN</td>\n      <td>NaN</td>\n      <td>NaN</td>\n      <td>NaN</td>\n      <td>NaN</td>\n      <td>NaN</td>\n      <td>NaN</td>\n    </tr>\n    <tr>\n      <th>182</th>\n      <td>United States</td>\n      <td>37154</td>\n      <td>36597</td>\n      <td>37350</td>\n      <td>37867</td>\n      <td>38858</td>\n      <td>39449</td>\n      <td>40470</td>\n      <td>41718</td>\n      <td>43049</td>\n      <td>...</td>\n      <td>NaN</td>\n      <td>NaN</td>\n      <td>NaN</td>\n      <td>NaN</td>\n      <td>NaN</td>\n      <td>NaN</td>\n      <td>NaN</td>\n      <td>NaN</td>\n      <td>NaN</td>\n      <td>NaN</td>\n    </tr>\n    <tr>\n      <th>191</th>\n      <td>Human Development</td>\n      <td></td>\n      <td>..</td>\n      <td>..</td>\n      <td>..</td>\n      <td>..</td>\n      <td>..</td>\n      <td>..</td>\n      <td>..</td>\n      <td>..</td>\n      <td>...</td>\n      <td>NaN</td>\n      <td>NaN</td>\n      <td>NaN</td>\n      <td>NaN</td>\n      <td>NaN</td>\n      <td>NaN</td>\n      <td>NaN</td>\n      <td>NaN</td>\n      <td>NaN</td>\n      <td>NaN</td>\n    </tr>\n    <tr>\n      <th>192</th>\n      <td>Very high human development</td>\n      <td>26297</td>\n      <td>26152</td>\n      <td>26068</td>\n      <td>26091</td>\n      <td>26408</td>\n      <td>26950</td>\n      <td>27549</td>\n      <td>28347</td>\n      <td>28787</td>\n      <td>...</td>\n      <td>NaN</td>\n      <td>NaN</td>\n      <td>NaN</td>\n      <td>NaN</td>\n      <td>NaN</td>\n      <td>NaN</td>\n      <td>NaN</td>\n      <td>NaN</td>\n      <td>NaN</td>\n      <td>NaN</td>\n    </tr>\n    <tr>\n      <th>193</th>\n      <td>High human development</td>\n      <td>4416</td>\n      <td>4532</td>\n      <td>4619</td>\n      <td>4767</td>\n      <td>4947</td>\n      <td>5109</td>\n      <td>5328</td>\n      <td>5548</td>\n      <td>5576</td>\n      <td>...</td>\n      <td>NaN</td>\n      <td>NaN</td>\n      <td>NaN</td>\n      <td>NaN</td>\n      <td>NaN</td>\n      <td>NaN</td>\n      <td>NaN</td>\n      <td>NaN</td>\n      <td>NaN</td>\n      <td>NaN</td>\n    </tr>\n    <tr>\n      <th>194</th>\n      <td>Medium human development</td>\n      <td>2131</td>\n      <td>2031</td>\n      <td>2072</td>\n      <td>2124</td>\n      <td>2197</td>\n      <td>2303</td>\n      <td>2414</td>\n      <td>2476</td>\n      <td>2593</td>\n      <td>...</td>\n      <td>NaN</td>\n      <td>NaN</td>\n      <td>NaN</td>\n      <td>NaN</td>\n      <td>NaN</td>\n      <td>NaN</td>\n      <td>NaN</td>\n      <td>NaN</td>\n      <td>NaN</td>\n      <td>NaN</td>\n    </tr>\n    <tr>\n      <th>195</th>\n      <td>Low human development</td>\n      <td>1871</td>\n      <td>1813</td>\n      <td>1797</td>\n      <td>1723</td>\n      <td>1636</td>\n      <td>1652</td>\n      <td>1716</td>\n      <td>1748</td>\n      <td>1771</td>\n      <td>...</td>\n      <td>NaN</td>\n      <td>NaN</td>\n      <td>NaN</td>\n      <td>NaN</td>\n      <td>NaN</td>\n      <td>NaN</td>\n      <td>NaN</td>\n      <td>NaN</td>\n      <td>NaN</td>\n      <td>NaN</td>\n    </tr>\n    <tr>\n      <th>196</th>\n      <td>Developing Countries</td>\n      <td>3901</td>\n      <td>3930</td>\n      <td>4009</td>\n      <td>4109</td>\n      <td>4204</td>\n      <td>4333</td>\n      <td>4504</td>\n      <td>4666</td>\n      <td>4718</td>\n      <td>...</td>\n      <td>NaN</td>\n      <td>NaN</td>\n      <td>NaN</td>\n      <td>NaN</td>\n      <td>NaN</td>\n      <td>NaN</td>\n      <td>NaN</td>\n      <td>NaN</td>\n      <td>NaN</td>\n      <td>NaN</td>\n    </tr>\n    <tr>\n      <th>197</th>\n      <td>Regions</td>\n      <td></td>\n      <td>..</td>\n      <td>..</td>\n      <td>..</td>\n      <td>..</td>\n      <td>..</td>\n      <td>..</td>\n      <td>..</td>\n      <td>..</td>\n      <td>...</td>\n      <td>NaN</td>\n      <td>NaN</td>\n      <td>NaN</td>\n      <td>NaN</td>\n      <td>NaN</td>\n      <td>NaN</td>\n      <td>NaN</td>\n      <td>NaN</td>\n      <td>NaN</td>\n      <td>NaN</td>\n    </tr>\n    <tr>\n      <th>198</th>\n      <td>Arab States</td>\n      <td>10779</td>\n      <td>10364</td>\n      <td>10705</td>\n      <td>10772</td>\n      <td>10795</td>\n      <td>10877</td>\n      <td>11087</td>\n      <td>11399</td>\n      <td>11870</td>\n      <td>...</td>\n      <td>NaN</td>\n      <td>NaN</td>\n      <td>NaN</td>\n      <td>NaN</td>\n      <td>NaN</td>\n      <td>NaN</td>\n      <td>NaN</td>\n      <td>NaN</td>\n      <td>NaN</td>\n      <td>NaN</td>\n    </tr>\n    <tr>\n      <th>199</th>\n      <td>East Asia and the Pacific</td>\n      <td>2269</td>\n      <td>2408</td>\n      <td>2619</td>\n      <td>2860</td>\n      <td>3128</td>\n      <td>3359</td>\n      <td>3609</td>\n      <td>3816</td>\n      <td>3793</td>\n      <td>...</td>\n      <td>NaN</td>\n      <td>NaN</td>\n      <td>NaN</td>\n      <td>NaN</td>\n      <td>NaN</td>\n      <td>NaN</td>\n      <td>NaN</td>\n      <td>NaN</td>\n      <td>NaN</td>\n      <td>NaN</td>\n    </tr>\n    <tr>\n      <th>200</th>\n      <td>Europe and Central Asia</td>\n      <td>9261</td>\n      <td>8651</td>\n      <td>7903</td>\n      <td>7497</td>\n      <td>6650</td>\n      <td>6637</td>\n      <td>6820</td>\n      <td>7146</td>\n      <td>7299</td>\n      <td>...</td>\n      <td>NaN</td>\n      <td>NaN</td>\n      <td>NaN</td>\n      <td>NaN</td>\n      <td>NaN</td>\n      <td>NaN</td>\n      <td>NaN</td>\n      <td>NaN</td>\n      <td>NaN</td>\n      <td>NaN</td>\n    </tr>\n    <tr>\n      <th>201</th>\n      <td>Latin America and the Caribbean</td>\n      <td>9499</td>\n      <td>9716</td>\n      <td>9831</td>\n      <td>10041</td>\n      <td>10296</td>\n      <td>10283</td>\n      <td>10472</td>\n      <td>10851</td>\n      <td>10906</td>\n      <td>...</td>\n      <td>NaN</td>\n      <td>NaN</td>\n      <td>NaN</td>\n      <td>NaN</td>\n      <td>NaN</td>\n      <td>NaN</td>\n      <td>NaN</td>\n      <td>NaN</td>\n      <td>NaN</td>\n      <td>NaN</td>\n    </tr>\n    <tr>\n      <th>202</th>\n      <td>South Asia</td>\n      <td>2424</td>\n      <td>2461</td>\n      <td>2526</td>\n      <td>2558</td>\n      <td>2603</td>\n      <td>2718</td>\n      <td>2823</td>\n      <td>2856</td>\n      <td>2940</td>\n      <td>...</td>\n      <td>NaN</td>\n      <td>NaN</td>\n      <td>NaN</td>\n      <td>NaN</td>\n      <td>NaN</td>\n      <td>NaN</td>\n      <td>NaN</td>\n      <td>NaN</td>\n      <td>NaN</td>\n      <td>NaN</td>\n    </tr>\n    <tr>\n      <th>203</th>\n      <td>Sub-Saharan Africa</td>\n      <td>2638</td>\n      <td>2579</td>\n      <td>2441</td>\n      <td>2363</td>\n      <td>2285</td>\n      <td>2330</td>\n      <td>2387</td>\n      <td>2421</td>\n      <td>2417</td>\n      <td>...</td>\n      <td>NaN</td>\n      <td>NaN</td>\n      <td>NaN</td>\n      <td>NaN</td>\n      <td>NaN</td>\n      <td>NaN</td>\n      <td>NaN</td>\n      <td>NaN</td>\n      <td>NaN</td>\n      <td>NaN</td>\n    </tr>\n    <tr>\n      <th>204</th>\n      <td>Least Developed Countries</td>\n      <td>1369</td>\n      <td>1343</td>\n      <td>1266</td>\n      <td>1253</td>\n      <td>1176</td>\n      <td>1248</td>\n      <td>1298</td>\n      <td>1343</td>\n      <td>1374</td>\n      <td>...</td>\n      <td>NaN</td>\n      <td>NaN</td>\n      <td>NaN</td>\n      <td>NaN</td>\n      <td>NaN</td>\n      <td>NaN</td>\n      <td>NaN</td>\n      <td>NaN</td>\n      <td>NaN</td>\n      <td>NaN</td>\n    </tr>\n    <tr>\n      <th>205</th>\n      <td>Small Island Developing States</td>\n      <td>6907</td>\n      <td>7007</td>\n      <td>7181</td>\n      <td>7393</td>\n      <td>7716</td>\n      <td>8068</td>\n      <td>8387</td>\n      <td>8803</td>\n      <td>8709</td>\n      <td>...</td>\n      <td>NaN</td>\n      <td>NaN</td>\n      <td>NaN</td>\n      <td>NaN</td>\n      <td>NaN</td>\n      <td>NaN</td>\n      <td>NaN</td>\n      <td>NaN</td>\n      <td>NaN</td>\n      <td>NaN</td>\n    </tr>\n    <tr>\n      <th>206</th>\n      <td>Organization for Economic Co-operation and Dev...</td>\n      <td>27153</td>\n      <td>27133</td>\n      <td>27373</td>\n      <td>27511</td>\n      <td>28097</td>\n      <td>28635</td>\n      <td>29380</td>\n      <td>30249</td>\n      <td>30892</td>\n      <td>...</td>\n      <td>NaN</td>\n      <td>NaN</td>\n      <td>NaN</td>\n      <td>NaN</td>\n      <td>NaN</td>\n      <td>NaN</td>\n      <td>NaN</td>\n      <td>NaN</td>\n      <td>NaN</td>\n      <td>NaN</td>\n    </tr>\n    <tr>\n      <th>207</th>\n      <td>World</td>\n      <td>8959</td>\n      <td>8884</td>\n      <td>8855</td>\n      <td>8877</td>\n      <td>8987</td>\n      <td>9160</td>\n      <td>9374</td>\n      <td>9617</td>\n      <td>9713</td>\n      <td>...</td>\n      <td>NaN</td>\n      <td>NaN</td>\n      <td>NaN</td>\n      <td>NaN</td>\n      <td>NaN</td>\n      <td>NaN</td>\n      <td>NaN</td>\n      <td>NaN</td>\n      <td>NaN</td>\n      <td>NaN</td>\n    </tr>\n  </tbody>\n</table>\n<p>27 rows × 41 columns</p>\n</div>"
     },
     "metadata": {},
     "execution_count": 22
    }
   ],
   "source": [
    "#Tratando nomes dos países para garantir igualdades\n",
    "iso_code['name'] = iso_code['name'].str.strip()\n",
    "\n",
    "indice_gni_iso_code = pd.merge(left=indice_gni, right=iso_code, how='left', left_on=['Country'], right_on=['name'])\n",
    "\n",
    "#Verificando os países com problema\n",
    "indice_gni_iso_code[indice_gni_iso_code['name'].isnull()]"
   ]
  },
  {
   "cell_type": "code",
   "execution_count": 23,
   "metadata": {},
   "outputs": [
    {
     "output_type": "execute_result",
     "data": {
      "text/plain": [
       "                                               Country   1990   1991   1992  \\\n",
       "45                                      CÃ´te d'Ivoire   2806   2759   2686   \n",
       "132                                Palestine; State of   1079    984   1176   \n",
       "191                                  Human Development            ..     ..   \n",
       "192                        Very high human development  26297  26152  26068   \n",
       "193                             High human development   4416   4532   4619   \n",
       "194                           Medium human development   2131   2031   2072   \n",
       "195                              Low human development   1871   1813   1797   \n",
       "196                               Developing Countries   3901   3930   4009   \n",
       "197                                            Regions            ..     ..   \n",
       "198                                        Arab States  10779  10364  10705   \n",
       "199                          East Asia and the Pacific   2269   2408   2619   \n",
       "200                            Europe and Central Asia   9261   8651   7903   \n",
       "201                    Latin America and the Caribbean   9499   9716   9831   \n",
       "202                                         South Asia   2424   2461   2526   \n",
       "203                                 Sub-Saharan Africa   2638   2579   2441   \n",
       "204                          Least Developed Countries   1369   1343   1266   \n",
       "205                     Small Island Developing States   6907   7007   7181   \n",
       "206  Organization for Economic Co-operation and Dev...  27153  27133  27373   \n",
       "207                                              World   8959   8884   8855   \n",
       "\n",
       "      1993   1994   1995   1996   1997   1998  ... alpha-2 alpha-3  \\\n",
       "45    2579   2600   2704   2865   2925   3025  ...     NaN     NaN   \n",
       "132   1241   3641   3749   3595   3987   4584  ...     NaN     NaN   \n",
       "191     ..     ..     ..     ..     ..     ..  ...     NaN     NaN   \n",
       "192  26091  26408  26950  27549  28347  28787  ...     NaN     NaN   \n",
       "193   4767   4947   5109   5328   5548   5576  ...     NaN     NaN   \n",
       "194   2124   2197   2303   2414   2476   2593  ...     NaN     NaN   \n",
       "195   1723   1636   1652   1716   1748   1771  ...     NaN     NaN   \n",
       "196   4109   4204   4333   4504   4666   4718  ...     NaN     NaN   \n",
       "197     ..     ..     ..     ..     ..     ..  ...     NaN     NaN   \n",
       "198  10772  10795  10877  11087  11399  11870  ...     NaN     NaN   \n",
       "199   2860   3128   3359   3609   3816   3793  ...     NaN     NaN   \n",
       "200   7497   6650   6637   6820   7146   7299  ...     NaN     NaN   \n",
       "201  10041  10296  10283  10472  10851  10906  ...     NaN     NaN   \n",
       "202   2558   2603   2718   2823   2856   2940  ...     NaN     NaN   \n",
       "203   2363   2285   2330   2387   2421   2417  ...     NaN     NaN   \n",
       "204   1253   1176   1248   1298   1343   1374  ...     NaN     NaN   \n",
       "205   7393   7716   8068   8387   8803   8709  ...     NaN     NaN   \n",
       "206  27511  28097  28635  29380  30249  30892  ...     NaN     NaN   \n",
       "207   8877   8987   9160   9374   9617   9713  ...     NaN     NaN   \n",
       "\n",
       "    country-code iso_3166-2 region sub-region intermediate-region region-code  \\\n",
       "45           NaN        NaN    NaN        NaN                 NaN         NaN   \n",
       "132          NaN        NaN    NaN        NaN                 NaN         NaN   \n",
       "191          NaN        NaN    NaN        NaN                 NaN         NaN   \n",
       "192          NaN        NaN    NaN        NaN                 NaN         NaN   \n",
       "193          NaN        NaN    NaN        NaN                 NaN         NaN   \n",
       "194          NaN        NaN    NaN        NaN                 NaN         NaN   \n",
       "195          NaN        NaN    NaN        NaN                 NaN         NaN   \n",
       "196          NaN        NaN    NaN        NaN                 NaN         NaN   \n",
       "197          NaN        NaN    NaN        NaN                 NaN         NaN   \n",
       "198          NaN        NaN    NaN        NaN                 NaN         NaN   \n",
       "199          NaN        NaN    NaN        NaN                 NaN         NaN   \n",
       "200          NaN        NaN    NaN        NaN                 NaN         NaN   \n",
       "201          NaN        NaN    NaN        NaN                 NaN         NaN   \n",
       "202          NaN        NaN    NaN        NaN                 NaN         NaN   \n",
       "203          NaN        NaN    NaN        NaN                 NaN         NaN   \n",
       "204          NaN        NaN    NaN        NaN                 NaN         NaN   \n",
       "205          NaN        NaN    NaN        NaN                 NaN         NaN   \n",
       "206          NaN        NaN    NaN        NaN                 NaN         NaN   \n",
       "207          NaN        NaN    NaN        NaN                 NaN         NaN   \n",
       "\n",
       "    sub-region-code intermediate-region-code  \n",
       "45              NaN                      NaN  \n",
       "132             NaN                      NaN  \n",
       "191             NaN                      NaN  \n",
       "192             NaN                      NaN  \n",
       "193             NaN                      NaN  \n",
       "194             NaN                      NaN  \n",
       "195             NaN                      NaN  \n",
       "196             NaN                      NaN  \n",
       "197             NaN                      NaN  \n",
       "198             NaN                      NaN  \n",
       "199             NaN                      NaN  \n",
       "200             NaN                      NaN  \n",
       "201             NaN                      NaN  \n",
       "202             NaN                      NaN  \n",
       "203             NaN                      NaN  \n",
       "204             NaN                      NaN  \n",
       "205             NaN                      NaN  \n",
       "206             NaN                      NaN  \n",
       "207             NaN                      NaN  \n",
       "\n",
       "[19 rows x 41 columns]"
      ],
      "text/html": "<div>\n<style scoped>\n    .dataframe tbody tr th:only-of-type {\n        vertical-align: middle;\n    }\n\n    .dataframe tbody tr th {\n        vertical-align: top;\n    }\n\n    .dataframe thead th {\n        text-align: right;\n    }\n</style>\n<table border=\"1\" class=\"dataframe\">\n  <thead>\n    <tr style=\"text-align: right;\">\n      <th></th>\n      <th>Country</th>\n      <th>1990</th>\n      <th>1991</th>\n      <th>1992</th>\n      <th>1993</th>\n      <th>1994</th>\n      <th>1995</th>\n      <th>1996</th>\n      <th>1997</th>\n      <th>1998</th>\n      <th>...</th>\n      <th>alpha-2</th>\n      <th>alpha-3</th>\n      <th>country-code</th>\n      <th>iso_3166-2</th>\n      <th>region</th>\n      <th>sub-region</th>\n      <th>intermediate-region</th>\n      <th>region-code</th>\n      <th>sub-region-code</th>\n      <th>intermediate-region-code</th>\n    </tr>\n  </thead>\n  <tbody>\n    <tr>\n      <th>45</th>\n      <td>CÃ´te d'Ivoire</td>\n      <td>2806</td>\n      <td>2759</td>\n      <td>2686</td>\n      <td>2579</td>\n      <td>2600</td>\n      <td>2704</td>\n      <td>2865</td>\n      <td>2925</td>\n      <td>3025</td>\n      <td>...</td>\n      <td>NaN</td>\n      <td>NaN</td>\n      <td>NaN</td>\n      <td>NaN</td>\n      <td>NaN</td>\n      <td>NaN</td>\n      <td>NaN</td>\n      <td>NaN</td>\n      <td>NaN</td>\n      <td>NaN</td>\n    </tr>\n    <tr>\n      <th>132</th>\n      <td>Palestine; State of</td>\n      <td>1079</td>\n      <td>984</td>\n      <td>1176</td>\n      <td>1241</td>\n      <td>3641</td>\n      <td>3749</td>\n      <td>3595</td>\n      <td>3987</td>\n      <td>4584</td>\n      <td>...</td>\n      <td>NaN</td>\n      <td>NaN</td>\n      <td>NaN</td>\n      <td>NaN</td>\n      <td>NaN</td>\n      <td>NaN</td>\n      <td>NaN</td>\n      <td>NaN</td>\n      <td>NaN</td>\n      <td>NaN</td>\n    </tr>\n    <tr>\n      <th>191</th>\n      <td>Human Development</td>\n      <td></td>\n      <td>..</td>\n      <td>..</td>\n      <td>..</td>\n      <td>..</td>\n      <td>..</td>\n      <td>..</td>\n      <td>..</td>\n      <td>..</td>\n      <td>...</td>\n      <td>NaN</td>\n      <td>NaN</td>\n      <td>NaN</td>\n      <td>NaN</td>\n      <td>NaN</td>\n      <td>NaN</td>\n      <td>NaN</td>\n      <td>NaN</td>\n      <td>NaN</td>\n      <td>NaN</td>\n    </tr>\n    <tr>\n      <th>192</th>\n      <td>Very high human development</td>\n      <td>26297</td>\n      <td>26152</td>\n      <td>26068</td>\n      <td>26091</td>\n      <td>26408</td>\n      <td>26950</td>\n      <td>27549</td>\n      <td>28347</td>\n      <td>28787</td>\n      <td>...</td>\n      <td>NaN</td>\n      <td>NaN</td>\n      <td>NaN</td>\n      <td>NaN</td>\n      <td>NaN</td>\n      <td>NaN</td>\n      <td>NaN</td>\n      <td>NaN</td>\n      <td>NaN</td>\n      <td>NaN</td>\n    </tr>\n    <tr>\n      <th>193</th>\n      <td>High human development</td>\n      <td>4416</td>\n      <td>4532</td>\n      <td>4619</td>\n      <td>4767</td>\n      <td>4947</td>\n      <td>5109</td>\n      <td>5328</td>\n      <td>5548</td>\n      <td>5576</td>\n      <td>...</td>\n      <td>NaN</td>\n      <td>NaN</td>\n      <td>NaN</td>\n      <td>NaN</td>\n      <td>NaN</td>\n      <td>NaN</td>\n      <td>NaN</td>\n      <td>NaN</td>\n      <td>NaN</td>\n      <td>NaN</td>\n    </tr>\n    <tr>\n      <th>194</th>\n      <td>Medium human development</td>\n      <td>2131</td>\n      <td>2031</td>\n      <td>2072</td>\n      <td>2124</td>\n      <td>2197</td>\n      <td>2303</td>\n      <td>2414</td>\n      <td>2476</td>\n      <td>2593</td>\n      <td>...</td>\n      <td>NaN</td>\n      <td>NaN</td>\n      <td>NaN</td>\n      <td>NaN</td>\n      <td>NaN</td>\n      <td>NaN</td>\n      <td>NaN</td>\n      <td>NaN</td>\n      <td>NaN</td>\n      <td>NaN</td>\n    </tr>\n    <tr>\n      <th>195</th>\n      <td>Low human development</td>\n      <td>1871</td>\n      <td>1813</td>\n      <td>1797</td>\n      <td>1723</td>\n      <td>1636</td>\n      <td>1652</td>\n      <td>1716</td>\n      <td>1748</td>\n      <td>1771</td>\n      <td>...</td>\n      <td>NaN</td>\n      <td>NaN</td>\n      <td>NaN</td>\n      <td>NaN</td>\n      <td>NaN</td>\n      <td>NaN</td>\n      <td>NaN</td>\n      <td>NaN</td>\n      <td>NaN</td>\n      <td>NaN</td>\n    </tr>\n    <tr>\n      <th>196</th>\n      <td>Developing Countries</td>\n      <td>3901</td>\n      <td>3930</td>\n      <td>4009</td>\n      <td>4109</td>\n      <td>4204</td>\n      <td>4333</td>\n      <td>4504</td>\n      <td>4666</td>\n      <td>4718</td>\n      <td>...</td>\n      <td>NaN</td>\n      <td>NaN</td>\n      <td>NaN</td>\n      <td>NaN</td>\n      <td>NaN</td>\n      <td>NaN</td>\n      <td>NaN</td>\n      <td>NaN</td>\n      <td>NaN</td>\n      <td>NaN</td>\n    </tr>\n    <tr>\n      <th>197</th>\n      <td>Regions</td>\n      <td></td>\n      <td>..</td>\n      <td>..</td>\n      <td>..</td>\n      <td>..</td>\n      <td>..</td>\n      <td>..</td>\n      <td>..</td>\n      <td>..</td>\n      <td>...</td>\n      <td>NaN</td>\n      <td>NaN</td>\n      <td>NaN</td>\n      <td>NaN</td>\n      <td>NaN</td>\n      <td>NaN</td>\n      <td>NaN</td>\n      <td>NaN</td>\n      <td>NaN</td>\n      <td>NaN</td>\n    </tr>\n    <tr>\n      <th>198</th>\n      <td>Arab States</td>\n      <td>10779</td>\n      <td>10364</td>\n      <td>10705</td>\n      <td>10772</td>\n      <td>10795</td>\n      <td>10877</td>\n      <td>11087</td>\n      <td>11399</td>\n      <td>11870</td>\n      <td>...</td>\n      <td>NaN</td>\n      <td>NaN</td>\n      <td>NaN</td>\n      <td>NaN</td>\n      <td>NaN</td>\n      <td>NaN</td>\n      <td>NaN</td>\n      <td>NaN</td>\n      <td>NaN</td>\n      <td>NaN</td>\n    </tr>\n    <tr>\n      <th>199</th>\n      <td>East Asia and the Pacific</td>\n      <td>2269</td>\n      <td>2408</td>\n      <td>2619</td>\n      <td>2860</td>\n      <td>3128</td>\n      <td>3359</td>\n      <td>3609</td>\n      <td>3816</td>\n      <td>3793</td>\n      <td>...</td>\n      <td>NaN</td>\n      <td>NaN</td>\n      <td>NaN</td>\n      <td>NaN</td>\n      <td>NaN</td>\n      <td>NaN</td>\n      <td>NaN</td>\n      <td>NaN</td>\n      <td>NaN</td>\n      <td>NaN</td>\n    </tr>\n    <tr>\n      <th>200</th>\n      <td>Europe and Central Asia</td>\n      <td>9261</td>\n      <td>8651</td>\n      <td>7903</td>\n      <td>7497</td>\n      <td>6650</td>\n      <td>6637</td>\n      <td>6820</td>\n      <td>7146</td>\n      <td>7299</td>\n      <td>...</td>\n      <td>NaN</td>\n      <td>NaN</td>\n      <td>NaN</td>\n      <td>NaN</td>\n      <td>NaN</td>\n      <td>NaN</td>\n      <td>NaN</td>\n      <td>NaN</td>\n      <td>NaN</td>\n      <td>NaN</td>\n    </tr>\n    <tr>\n      <th>201</th>\n      <td>Latin America and the Caribbean</td>\n      <td>9499</td>\n      <td>9716</td>\n      <td>9831</td>\n      <td>10041</td>\n      <td>10296</td>\n      <td>10283</td>\n      <td>10472</td>\n      <td>10851</td>\n      <td>10906</td>\n      <td>...</td>\n      <td>NaN</td>\n      <td>NaN</td>\n      <td>NaN</td>\n      <td>NaN</td>\n      <td>NaN</td>\n      <td>NaN</td>\n      <td>NaN</td>\n      <td>NaN</td>\n      <td>NaN</td>\n      <td>NaN</td>\n    </tr>\n    <tr>\n      <th>202</th>\n      <td>South Asia</td>\n      <td>2424</td>\n      <td>2461</td>\n      <td>2526</td>\n      <td>2558</td>\n      <td>2603</td>\n      <td>2718</td>\n      <td>2823</td>\n      <td>2856</td>\n      <td>2940</td>\n      <td>...</td>\n      <td>NaN</td>\n      <td>NaN</td>\n      <td>NaN</td>\n      <td>NaN</td>\n      <td>NaN</td>\n      <td>NaN</td>\n      <td>NaN</td>\n      <td>NaN</td>\n      <td>NaN</td>\n      <td>NaN</td>\n    </tr>\n    <tr>\n      <th>203</th>\n      <td>Sub-Saharan Africa</td>\n      <td>2638</td>\n      <td>2579</td>\n      <td>2441</td>\n      <td>2363</td>\n      <td>2285</td>\n      <td>2330</td>\n      <td>2387</td>\n      <td>2421</td>\n      <td>2417</td>\n      <td>...</td>\n      <td>NaN</td>\n      <td>NaN</td>\n      <td>NaN</td>\n      <td>NaN</td>\n      <td>NaN</td>\n      <td>NaN</td>\n      <td>NaN</td>\n      <td>NaN</td>\n      <td>NaN</td>\n      <td>NaN</td>\n    </tr>\n    <tr>\n      <th>204</th>\n      <td>Least Developed Countries</td>\n      <td>1369</td>\n      <td>1343</td>\n      <td>1266</td>\n      <td>1253</td>\n      <td>1176</td>\n      <td>1248</td>\n      <td>1298</td>\n      <td>1343</td>\n      <td>1374</td>\n      <td>...</td>\n      <td>NaN</td>\n      <td>NaN</td>\n      <td>NaN</td>\n      <td>NaN</td>\n      <td>NaN</td>\n      <td>NaN</td>\n      <td>NaN</td>\n      <td>NaN</td>\n      <td>NaN</td>\n      <td>NaN</td>\n    </tr>\n    <tr>\n      <th>205</th>\n      <td>Small Island Developing States</td>\n      <td>6907</td>\n      <td>7007</td>\n      <td>7181</td>\n      <td>7393</td>\n      <td>7716</td>\n      <td>8068</td>\n      <td>8387</td>\n      <td>8803</td>\n      <td>8709</td>\n      <td>...</td>\n      <td>NaN</td>\n      <td>NaN</td>\n      <td>NaN</td>\n      <td>NaN</td>\n      <td>NaN</td>\n      <td>NaN</td>\n      <td>NaN</td>\n      <td>NaN</td>\n      <td>NaN</td>\n      <td>NaN</td>\n    </tr>\n    <tr>\n      <th>206</th>\n      <td>Organization for Economic Co-operation and Dev...</td>\n      <td>27153</td>\n      <td>27133</td>\n      <td>27373</td>\n      <td>27511</td>\n      <td>28097</td>\n      <td>28635</td>\n      <td>29380</td>\n      <td>30249</td>\n      <td>30892</td>\n      <td>...</td>\n      <td>NaN</td>\n      <td>NaN</td>\n      <td>NaN</td>\n      <td>NaN</td>\n      <td>NaN</td>\n      <td>NaN</td>\n      <td>NaN</td>\n      <td>NaN</td>\n      <td>NaN</td>\n      <td>NaN</td>\n    </tr>\n    <tr>\n      <th>207</th>\n      <td>World</td>\n      <td>8959</td>\n      <td>8884</td>\n      <td>8855</td>\n      <td>8877</td>\n      <td>8987</td>\n      <td>9160</td>\n      <td>9374</td>\n      <td>9617</td>\n      <td>9713</td>\n      <td>...</td>\n      <td>NaN</td>\n      <td>NaN</td>\n      <td>NaN</td>\n      <td>NaN</td>\n      <td>NaN</td>\n      <td>NaN</td>\n      <td>NaN</td>\n      <td>NaN</td>\n      <td>NaN</td>\n      <td>NaN</td>\n    </tr>\n  </tbody>\n</table>\n<p>19 rows × 41 columns</p>\n</div>"
     },
     "metadata": {},
     "execution_count": 23
    }
   ],
   "source": [
    "#Vou atualizar o nome dos países para consertar\n",
    "indice_gni['Country'].replace(\n",
    "    {\n",
    "        'Eswatini (Kingdom of)'             : 'Eswatini', \n",
    "        'Congo (Democratic Republic of the)': 'Congo, Democratic Republic of the',\n",
    "        'Hong Kong; China (SAR)'            : 'Hong Kong', \n",
    "        'Korea (Republic of)'               : 'Korea, Republic of',\n",
    "        'Moldova (Republic of)'             : 'Moldova, Republic of',\n",
    "        'Tanzania (United Republic of)'     : 'Tanzania, United Republic of',\n",
    "        'United Kingdom'                    : 'United Kingdom of Great Britain and Northern Ireland',\n",
    "        'United States'                     : 'United States of America'\n",
    "    }\n",
    ", inplace=True)\n",
    "\n",
    "#Re aglutinando dados\n",
    "indice_gni_iso_code = pd.merge(left=indice_gni, right=iso_code, how='left', left_on=['Country'], right_on=['name'])\n",
    "\n",
    "#Verificando os países com problema\n",
    "indice_gni_iso_code[indice_gni_iso_code['name'].isnull()]"
   ]
  },
  {
   "cell_type": "code",
   "execution_count": 24,
   "metadata": {},
   "outputs": [
    {
     "output_type": "execute_result",
     "data": {
      "text/plain": [
       "Empty DataFrame\n",
       "Columns: [Country, 1990, 1991, 1992, 1993, 1994, 1995, 1996, 1997, 1998, 1999, 2000, 2001, 2002, 2003, 2004, 2005, 2006, 2007, 2008, 2009, 2010, 2011, 2012, 2013, 2014, 2015, 2016, 2017, 2018, name, alpha-2, alpha-3, country-code, iso_3166-2, region, sub-region, intermediate-region, region-code, sub-region-code, intermediate-region-code]\n",
       "Index: []\n",
       "\n",
       "[0 rows x 41 columns]"
      ],
      "text/html": "<div>\n<style scoped>\n    .dataframe tbody tr th:only-of-type {\n        vertical-align: middle;\n    }\n\n    .dataframe tbody tr th {\n        vertical-align: top;\n    }\n\n    .dataframe thead th {\n        text-align: right;\n    }\n</style>\n<table border=\"1\" class=\"dataframe\">\n  <thead>\n    <tr style=\"text-align: right;\">\n      <th></th>\n      <th>Country</th>\n      <th>1990</th>\n      <th>1991</th>\n      <th>1992</th>\n      <th>1993</th>\n      <th>1994</th>\n      <th>1995</th>\n      <th>1996</th>\n      <th>1997</th>\n      <th>1998</th>\n      <th>...</th>\n      <th>alpha-2</th>\n      <th>alpha-3</th>\n      <th>country-code</th>\n      <th>iso_3166-2</th>\n      <th>region</th>\n      <th>sub-region</th>\n      <th>intermediate-region</th>\n      <th>region-code</th>\n      <th>sub-region-code</th>\n      <th>intermediate-region-code</th>\n    </tr>\n  </thead>\n  <tbody>\n  </tbody>\n</table>\n<p>0 rows × 41 columns</p>\n</div>"
     },
     "metadata": {},
     "execution_count": 24
    }
   ],
   "source": [
    "#E vamos dropar os outros, pois são índices regionais\n",
    "indice_gni_iso_code.dropna(subset = ['name'], inplace=True)\n",
    "#Verificando os países com problema\n",
    "indice_gni_iso_code[indice_gni_iso_code['name'].isnull()]"
   ]
  },
  {
   "cell_type": "code",
   "execution_count": 25,
   "metadata": {},
   "outputs": [
    {
     "output_type": "execute_result",
     "data": {
      "text/plain": [
       "       Country   1990   1991   1992   1993   1994   1995   1996   1997   1998  \\\n",
       "0  Afghanistan   2193   1841   1739   1208    877   1244   1130   1039    967   \n",
       "1      Albania   4415   3138   2857   3261   3600   4168   4594   4112   4530   \n",
       "2      Algeria   9989   9457   9462   9171   8847   8904   9069   9099   9502   \n",
       "3      Andorra  49062  48391  47002  44928  44747  45136  46861  51136  52922   \n",
       "4       Angola   4139   4528   1737   1704   1304   2858   2826   3335   3269   \n",
       "\n",
       "   ... alpha-2 alpha-3 country-code     iso_3166-2  region  \\\n",
       "0  ...      AF     AFG          4.0  ISO 3166-2:AF    Asia   \n",
       "1  ...      AL     ALB          8.0  ISO 3166-2:AL  Europe   \n",
       "2  ...      DZ     DZA         12.0  ISO 3166-2:DZ  Africa   \n",
       "3  ...      AD     AND         20.0  ISO 3166-2:AD  Europe   \n",
       "4  ...      AO     AGO         24.0  ISO 3166-2:AO  Africa   \n",
       "\n",
       "           sub-region intermediate-region region-code sub-region-code  \\\n",
       "0       Southern Asia                 NaN       142.0            34.0   \n",
       "1     Southern Europe                 NaN       150.0            39.0   \n",
       "2     Northern Africa                 NaN         2.0            15.0   \n",
       "3     Southern Europe                 NaN       150.0            39.0   \n",
       "4  Sub-Saharan Africa       Middle Africa         2.0           202.0   \n",
       "\n",
       "  intermediate-region-code  \n",
       "0                      NaN  \n",
       "1                      NaN  \n",
       "2                      NaN  \n",
       "3                      NaN  \n",
       "4                     17.0  \n",
       "\n",
       "[5 rows x 41 columns]"
      ],
      "text/html": "<div>\n<style scoped>\n    .dataframe tbody tr th:only-of-type {\n        vertical-align: middle;\n    }\n\n    .dataframe tbody tr th {\n        vertical-align: top;\n    }\n\n    .dataframe thead th {\n        text-align: right;\n    }\n</style>\n<table border=\"1\" class=\"dataframe\">\n  <thead>\n    <tr style=\"text-align: right;\">\n      <th></th>\n      <th>Country</th>\n      <th>1990</th>\n      <th>1991</th>\n      <th>1992</th>\n      <th>1993</th>\n      <th>1994</th>\n      <th>1995</th>\n      <th>1996</th>\n      <th>1997</th>\n      <th>1998</th>\n      <th>...</th>\n      <th>alpha-2</th>\n      <th>alpha-3</th>\n      <th>country-code</th>\n      <th>iso_3166-2</th>\n      <th>region</th>\n      <th>sub-region</th>\n      <th>intermediate-region</th>\n      <th>region-code</th>\n      <th>sub-region-code</th>\n      <th>intermediate-region-code</th>\n    </tr>\n  </thead>\n  <tbody>\n    <tr>\n      <th>0</th>\n      <td>Afghanistan</td>\n      <td>2193</td>\n      <td>1841</td>\n      <td>1739</td>\n      <td>1208</td>\n      <td>877</td>\n      <td>1244</td>\n      <td>1130</td>\n      <td>1039</td>\n      <td>967</td>\n      <td>...</td>\n      <td>AF</td>\n      <td>AFG</td>\n      <td>4.0</td>\n      <td>ISO 3166-2:AF</td>\n      <td>Asia</td>\n      <td>Southern Asia</td>\n      <td>NaN</td>\n      <td>142.0</td>\n      <td>34.0</td>\n      <td>NaN</td>\n    </tr>\n    <tr>\n      <th>1</th>\n      <td>Albania</td>\n      <td>4415</td>\n      <td>3138</td>\n      <td>2857</td>\n      <td>3261</td>\n      <td>3600</td>\n      <td>4168</td>\n      <td>4594</td>\n      <td>4112</td>\n      <td>4530</td>\n      <td>...</td>\n      <td>AL</td>\n      <td>ALB</td>\n      <td>8.0</td>\n      <td>ISO 3166-2:AL</td>\n      <td>Europe</td>\n      <td>Southern Europe</td>\n      <td>NaN</td>\n      <td>150.0</td>\n      <td>39.0</td>\n      <td>NaN</td>\n    </tr>\n    <tr>\n      <th>2</th>\n      <td>Algeria</td>\n      <td>9989</td>\n      <td>9457</td>\n      <td>9462</td>\n      <td>9171</td>\n      <td>8847</td>\n      <td>8904</td>\n      <td>9069</td>\n      <td>9099</td>\n      <td>9502</td>\n      <td>...</td>\n      <td>DZ</td>\n      <td>DZA</td>\n      <td>12.0</td>\n      <td>ISO 3166-2:DZ</td>\n      <td>Africa</td>\n      <td>Northern Africa</td>\n      <td>NaN</td>\n      <td>2.0</td>\n      <td>15.0</td>\n      <td>NaN</td>\n    </tr>\n    <tr>\n      <th>3</th>\n      <td>Andorra</td>\n      <td>49062</td>\n      <td>48391</td>\n      <td>47002</td>\n      <td>44928</td>\n      <td>44747</td>\n      <td>45136</td>\n      <td>46861</td>\n      <td>51136</td>\n      <td>52922</td>\n      <td>...</td>\n      <td>AD</td>\n      <td>AND</td>\n      <td>20.0</td>\n      <td>ISO 3166-2:AD</td>\n      <td>Europe</td>\n      <td>Southern Europe</td>\n      <td>NaN</td>\n      <td>150.0</td>\n      <td>39.0</td>\n      <td>NaN</td>\n    </tr>\n    <tr>\n      <th>4</th>\n      <td>Angola</td>\n      <td>4139</td>\n      <td>4528</td>\n      <td>1737</td>\n      <td>1704</td>\n      <td>1304</td>\n      <td>2858</td>\n      <td>2826</td>\n      <td>3335</td>\n      <td>3269</td>\n      <td>...</td>\n      <td>AO</td>\n      <td>AGO</td>\n      <td>24.0</td>\n      <td>ISO 3166-2:AO</td>\n      <td>Africa</td>\n      <td>Sub-Saharan Africa</td>\n      <td>Middle Africa</td>\n      <td>2.0</td>\n      <td>202.0</td>\n      <td>17.0</td>\n    </tr>\n  </tbody>\n</table>\n<p>5 rows × 41 columns</p>\n</div>"
     },
     "metadata": {},
     "execution_count": 25
    }
   ],
   "source": [
    "#Agora temos o indice IDH com o ISO_CODE\n",
    "indice_gni_iso_code.head()"
   ]
  },
  {
   "cell_type": "code",
   "execution_count": 26,
   "metadata": {},
   "outputs": [
    {
     "output_type": "execute_result",
     "data": {
      "text/plain": [
       "       Country alpha-2 alpha-3  country-code     iso_3166-2  region  \\\n",
       "0  Afghanistan      AF     AFG           4.0  ISO 3166-2:AF    Asia   \n",
       "1      Albania      AL     ALB           8.0  ISO 3166-2:AL  Europe   \n",
       "2      Algeria      DZ     DZA          12.0  ISO 3166-2:DZ  Africa   \n",
       "3      Andorra      AD     AND          20.0  ISO 3166-2:AD  Europe   \n",
       "4       Angola      AO     AGO          24.0  ISO 3166-2:AO  Africa   \n",
       "\n",
       "           sub-region intermediate-region  region-code  sub-region-code  \\\n",
       "0       Southern Asia                 NaN        142.0             34.0   \n",
       "1     Southern Europe                 NaN        150.0             39.0   \n",
       "2     Northern Africa                 NaN          2.0             15.0   \n",
       "3     Southern Europe                 NaN        150.0             39.0   \n",
       "4  Sub-Saharan Africa       Middle Africa          2.0            202.0   \n",
       "\n",
       "   intermediate-region-code  Year    gni  \n",
       "0                       NaN  1990   2193  \n",
       "1                       NaN  1990   4415  \n",
       "2                       NaN  1990   9989  \n",
       "3                       NaN  1990  49062  \n",
       "4                      17.0  1990   4139  "
      ],
      "text/html": "<div>\n<style scoped>\n    .dataframe tbody tr th:only-of-type {\n        vertical-align: middle;\n    }\n\n    .dataframe tbody tr th {\n        vertical-align: top;\n    }\n\n    .dataframe thead th {\n        text-align: right;\n    }\n</style>\n<table border=\"1\" class=\"dataframe\">\n  <thead>\n    <tr style=\"text-align: right;\">\n      <th></th>\n      <th>Country</th>\n      <th>alpha-2</th>\n      <th>alpha-3</th>\n      <th>country-code</th>\n      <th>iso_3166-2</th>\n      <th>region</th>\n      <th>sub-region</th>\n      <th>intermediate-region</th>\n      <th>region-code</th>\n      <th>sub-region-code</th>\n      <th>intermediate-region-code</th>\n      <th>Year</th>\n      <th>gni</th>\n    </tr>\n  </thead>\n  <tbody>\n    <tr>\n      <th>0</th>\n      <td>Afghanistan</td>\n      <td>AF</td>\n      <td>AFG</td>\n      <td>4.0</td>\n      <td>ISO 3166-2:AF</td>\n      <td>Asia</td>\n      <td>Southern Asia</td>\n      <td>NaN</td>\n      <td>142.0</td>\n      <td>34.0</td>\n      <td>NaN</td>\n      <td>1990</td>\n      <td>2193</td>\n    </tr>\n    <tr>\n      <th>1</th>\n      <td>Albania</td>\n      <td>AL</td>\n      <td>ALB</td>\n      <td>8.0</td>\n      <td>ISO 3166-2:AL</td>\n      <td>Europe</td>\n      <td>Southern Europe</td>\n      <td>NaN</td>\n      <td>150.0</td>\n      <td>39.0</td>\n      <td>NaN</td>\n      <td>1990</td>\n      <td>4415</td>\n    </tr>\n    <tr>\n      <th>2</th>\n      <td>Algeria</td>\n      <td>DZ</td>\n      <td>DZA</td>\n      <td>12.0</td>\n      <td>ISO 3166-2:DZ</td>\n      <td>Africa</td>\n      <td>Northern Africa</td>\n      <td>NaN</td>\n      <td>2.0</td>\n      <td>15.0</td>\n      <td>NaN</td>\n      <td>1990</td>\n      <td>9989</td>\n    </tr>\n    <tr>\n      <th>3</th>\n      <td>Andorra</td>\n      <td>AD</td>\n      <td>AND</td>\n      <td>20.0</td>\n      <td>ISO 3166-2:AD</td>\n      <td>Europe</td>\n      <td>Southern Europe</td>\n      <td>NaN</td>\n      <td>150.0</td>\n      <td>39.0</td>\n      <td>NaN</td>\n      <td>1990</td>\n      <td>49062</td>\n    </tr>\n    <tr>\n      <th>4</th>\n      <td>Angola</td>\n      <td>AO</td>\n      <td>AGO</td>\n      <td>24.0</td>\n      <td>ISO 3166-2:AO</td>\n      <td>Africa</td>\n      <td>Sub-Saharan Africa</td>\n      <td>Middle Africa</td>\n      <td>2.0</td>\n      <td>202.0</td>\n      <td>17.0</td>\n      <td>1990</td>\n      <td>4139</td>\n    </tr>\n  </tbody>\n</table>\n</div>"
     },
     "metadata": {},
     "execution_count": 26
    }
   ],
   "source": [
    "#Porém é interessante também separar por ano para termos uma informação parecida com o indice de lib. economica\n",
    "indice_gni_iso_code_porAno = indice_gni_iso_code.melt(id_vars=['Country','alpha-2','alpha-3',\n",
    "'country-code','iso_3166-2','region','sub-region','intermediate-region','region-code','sub-region-code','intermediate-region-code'], \n",
    "value_vars=['1990','1991','1992','1993','1994','1995','1996','1997','1998','1999','2000','2001','2002','2003',\n",
    "'2004','2005','2006','2007','2008','2009','2010','2011','2012','2013','2014','2015','2016','2017', '2018'], var_name=\"Year\", value_name=\"gni\")\n",
    "#Verificando resultado\n",
    "indice_gni_iso_code_porAno.head()"
   ]
  },
  {
   "cell_type": "code",
   "execution_count": 27,
   "metadata": {},
   "outputs": [
    {
     "output_type": "stream",
     "name": "stdout",
     "text": [
      "<class 'pandas.core.frame.DataFrame'>\nRangeIndex: 5481 entries, 0 to 5480\nData columns (total 13 columns):\n #   Column                    Non-Null Count  Dtype  \n---  ------                    --------------  -----  \n 0   Country                   5481 non-null   object \n 1   alpha-2                   5452 non-null   object \n 2   alpha-3                   5481 non-null   object \n 3   country-code              5481 non-null   float64\n 4   iso_3166-2                5481 non-null   object \n 5   region                    5481 non-null   object \n 6   sub-region                5481 non-null   object \n 7   intermediate-region       2291 non-null   object \n 8   region-code               5481 non-null   float64\n 9   sub-region-code           5481 non-null   float64\n 10  intermediate-region-code  2291 non-null   float64\n 11  Year                      5481 non-null   object \n 12  gni                       5481 non-null   object \ndtypes: float64(4), object(9)\nmemory usage: 364.0+ KB\n"
     ]
    }
   ],
   "source": [
    "indice_gni_iso_code_porAno.info()"
   ]
  },
  {
   "cell_type": "code",
   "execution_count": 28,
   "metadata": {},
   "outputs": [
    {
     "output_type": "stream",
     "name": "stdout",
     "text": [
      "<class 'pandas.core.frame.DataFrame'>\nRangeIndex: 5481 entries, 0 to 5480\nData columns (total 13 columns):\n #   Column                    Non-Null Count  Dtype  \n---  ------                    --------------  -----  \n 0   Country                   5481 non-null   object \n 1   alpha-2                   5452 non-null   object \n 2   alpha-3                   5481 non-null   object \n 3   country-code              5481 non-null   float64\n 4   iso_3166-2                5481 non-null   object \n 5   region                    5481 non-null   object \n 6   sub-region                5481 non-null   object \n 7   intermediate-region       2291 non-null   object \n 8   region-code               5481 non-null   float64\n 9   sub-region-code           5481 non-null   float64\n 10  intermediate-region-code  2291 non-null   float64\n 11  Year                      5481 non-null   object \n 12  gni                       5443 non-null   float64\ndtypes: float64(5), object(8)\nmemory usage: 385.4+ KB\n"
     ]
    }
   ],
   "source": [
    "indice_gni_iso_code_porAno['gni'] = pd.to_numeric(indice_gni_iso_code_porAno['gni'], errors='coerce')\n",
    "indice_gni_iso_code_porAno.info()"
   ]
  },
  {
   "cell_type": "code",
   "execution_count": 30,
   "metadata": {},
   "outputs": [
    {
     "output_type": "execute_result",
     "data": {
      "text/plain": [
       "Country                        0\n",
       "alpha-2                       29\n",
       "alpha-3                        0\n",
       "country-code                   0\n",
       "iso_3166-2                     0\n",
       "region                         0\n",
       "sub-region                     0\n",
       "intermediate-region         3190\n",
       "region-code                    0\n",
       "sub-region-code                0\n",
       "intermediate-region-code    3190\n",
       "Year                           0\n",
       "gni                           38\n",
       "dtype: int64"
      ]
     },
     "metadata": {},
     "execution_count": 30
    }
   ],
   "source": [
    "indice_gni_iso_code_porAno.isnull().sum()"
   ]
  },
  {
   "cell_type": "code",
   "execution_count": 31,
   "metadata": {},
   "outputs": [
    {
     "output_type": "execute_result",
     "data": {
      "text/plain": [
       "Country                        0\n",
       "alpha-2                       29\n",
       "alpha-3                        0\n",
       "country-code                   0\n",
       "iso_3166-2                     0\n",
       "region                         0\n",
       "sub-region                     0\n",
       "intermediate-region         3170\n",
       "region-code                    0\n",
       "sub-region-code                0\n",
       "intermediate-region-code    3170\n",
       "Year                           0\n",
       "gni                            0\n",
       "dtype: int64"
      ]
     },
     "metadata": {},
     "execution_count": 31
    }
   ],
   "source": [
    "indice_gni_iso_code_porAno.dropna(subset = ['gni'], inplace=True)\n",
    "indice_gni_iso_code_porAno.isnull().sum()"
   ]
  },
  {
   "cell_type": "code",
   "execution_count": 29,
   "metadata": {},
   "outputs": [],
   "source": [
    "#Salvando o indice IDH por ANO\n",
    "indice_gni_iso_code_porAno.to_csv(path_or_buf='./csv/indice_gni_porAno.csv')"
   ]
  }
 ]
}